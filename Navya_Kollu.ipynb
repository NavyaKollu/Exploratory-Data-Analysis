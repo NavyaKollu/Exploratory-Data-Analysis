{
 "cells": [
  {
   "cell_type": "code",
   "execution_count": 182,
   "metadata": {},
   "outputs": [],
   "source": [
    "import numpy as np\n",
    "import pandas as pd\n",
    "import matplotlib as plt\n",
    "import seaborn as sns\n",
    "import chardet\n",
    "import matplotlib.pyplot as pt\n",
    "#from unidecode import unidecode"
   ]
  },
  {
   "cell_type": "markdown",
   "metadata": {},
   "source": [
    "## Encoding file"
   ]
  },
  {
   "cell_type": "code",
   "execution_count": 144,
   "metadata": {},
   "outputs": [
    {
     "name": "stdout",
     "output_type": "stream",
     "text": [
      "{'encoding': 'Windows-1252', 'confidence': 0.73, 'language': ''}\n"
     ]
    }
   ],
   "source": [
    "#Checking for encoding using Chardet, but had no luck\n",
    "with open(\"rounds2.csv\", 'rb') as rawdata:\n",
    "    result = chardet.detect(rawdata.read(100000))\n",
    "print(result)"
   ]
  },
  {
   "cell_type": "code",
   "execution_count": 183,
   "metadata": {},
   "outputs": [],
   "source": [
    "#Going with defailt ISO-8859-1\n",
    "companies  = pd.read_csv(\"companies.csv\", encoding = 'ISO-8859-1')\n",
    "rounds2 = pd.read_csv(\"rounds2.csv\", encoding='ISO-8859-1')"
   ]
  },
  {
   "cell_type": "code",
   "execution_count": 184,
   "metadata": {},
   "outputs": [
    {
     "data": {
      "text/html": [
       "<div>\n",
       "<style scoped>\n",
       "    .dataframe tbody tr th:only-of-type {\n",
       "        vertical-align: middle;\n",
       "    }\n",
       "\n",
       "    .dataframe tbody tr th {\n",
       "        vertical-align: top;\n",
       "    }\n",
       "\n",
       "    .dataframe thead th {\n",
       "        text-align: right;\n",
       "    }\n",
       "</style>\n",
       "<table border=\"1\" class=\"dataframe\">\n",
       "  <thead>\n",
       "    <tr style=\"text-align: right;\">\n",
       "      <th></th>\n",
       "      <th>permalink</th>\n",
       "      <th>name</th>\n",
       "      <th>homepage_url</th>\n",
       "      <th>category_list</th>\n",
       "      <th>status</th>\n",
       "      <th>country_code</th>\n",
       "      <th>state_code</th>\n",
       "      <th>region</th>\n",
       "      <th>city</th>\n",
       "      <th>founded_at</th>\n",
       "    </tr>\n",
       "  </thead>\n",
       "  <tbody>\n",
       "    <tr>\n",
       "      <th>66363</th>\n",
       "      <td>/Organization/Zznode-Science-And-Technology-Co...</td>\n",
       "      <td>ZZNode Science and Technology</td>\n",
       "      <td>http://www.zznode.com</td>\n",
       "      <td>Enterprise Software</td>\n",
       "      <td>operating</td>\n",
       "      <td>CHN</td>\n",
       "      <td>22</td>\n",
       "      <td>Beijing</td>\n",
       "      <td>Beijing</td>\n",
       "      <td>NaN</td>\n",
       "    </tr>\n",
       "    <tr>\n",
       "      <th>66364</th>\n",
       "      <td>/Organization/Zzzzapp-Com</td>\n",
       "      <td>Zzzzapp Wireless ltd.</td>\n",
       "      <td>http://www.zzzzapp.com</td>\n",
       "      <td>Advertising|Mobile|Web Development|Wireless</td>\n",
       "      <td>operating</td>\n",
       "      <td>HRV</td>\n",
       "      <td>15</td>\n",
       "      <td>Split</td>\n",
       "      <td>Split</td>\n",
       "      <td>13-05-2012</td>\n",
       "    </tr>\n",
       "    <tr>\n",
       "      <th>66365</th>\n",
       "      <td>/Organization/ÃEron</td>\n",
       "      <td>ÃERON</td>\n",
       "      <td>http://www.aeron.hu/</td>\n",
       "      <td>NaN</td>\n",
       "      <td>operating</td>\n",
       "      <td>NaN</td>\n",
       "      <td>NaN</td>\n",
       "      <td>NaN</td>\n",
       "      <td>NaN</td>\n",
       "      <td>01-01-2011</td>\n",
       "    </tr>\n",
       "    <tr>\n",
       "      <th>66366</th>\n",
       "      <td>/Organization/ÃAsys-2</td>\n",
       "      <td>Ãasys</td>\n",
       "      <td>http://www.oasys.io/</td>\n",
       "      <td>Consumer Electronics|Internet of Things|Teleco...</td>\n",
       "      <td>operating</td>\n",
       "      <td>USA</td>\n",
       "      <td>CA</td>\n",
       "      <td>SF Bay Area</td>\n",
       "      <td>San Francisco</td>\n",
       "      <td>01-01-2014</td>\n",
       "    </tr>\n",
       "    <tr>\n",
       "      <th>66367</th>\n",
       "      <td>/Organization/Ä°Novatiff-Reklam-Ve-Tanä±Tä±M-H...</td>\n",
       "      <td>Ä°novatiff Reklam ve TanÄ±tÄ±m Hizmetleri Tic</td>\n",
       "      <td>http://inovatiff.com</td>\n",
       "      <td>Consumer Goods|E-Commerce|Internet</td>\n",
       "      <td>operating</td>\n",
       "      <td>NaN</td>\n",
       "      <td>NaN</td>\n",
       "      <td>NaN</td>\n",
       "      <td>NaN</td>\n",
       "      <td>NaN</td>\n",
       "    </tr>\n",
       "  </tbody>\n",
       "</table>\n",
       "</div>"
      ],
      "text/plain": [
       "                                               permalink  \\\n",
       "66363  /Organization/Zznode-Science-And-Technology-Co...   \n",
       "66364                          /Organization/Zzzzapp-Com   \n",
       "66365                               /Organization/ÃEron   \n",
       "66366                             /Organization/ÃAsys-2   \n",
       "66367  /Organization/Ä°Novatiff-Reklam-Ve-Tanä±Tä±M-H...   \n",
       "\n",
       "                                                name            homepage_url  \\\n",
       "66363                  ZZNode Science and Technology   http://www.zznode.com   \n",
       "66364                          Zzzzapp Wireless ltd.  http://www.zzzzapp.com   \n",
       "66365                                         ÃERON    http://www.aeron.hu/   \n",
       "66366                                         Ãasys    http://www.oasys.io/   \n",
       "66367  Ä°novatiff Reklam ve TanÄ±tÄ±m Hizmetleri Tic    http://inovatiff.com   \n",
       "\n",
       "                                           category_list     status  \\\n",
       "66363                                Enterprise Software  operating   \n",
       "66364        Advertising|Mobile|Web Development|Wireless  operating   \n",
       "66365                                                NaN  operating   \n",
       "66366  Consumer Electronics|Internet of Things|Teleco...  operating   \n",
       "66367                 Consumer Goods|E-Commerce|Internet  operating   \n",
       "\n",
       "      country_code state_code       region           city  founded_at  \n",
       "66363          CHN         22      Beijing        Beijing         NaN  \n",
       "66364          HRV         15        Split          Split  13-05-2012  \n",
       "66365          NaN        NaN          NaN            NaN  01-01-2011  \n",
       "66366          USA         CA  SF Bay Area  San Francisco  01-01-2014  \n",
       "66367          NaN        NaN          NaN            NaN         NaN  "
      ]
     },
     "execution_count": 184,
     "metadata": {},
     "output_type": "execute_result"
    }
   ],
   "source": [
    "companies.tail()"
   ]
  },
  {
   "cell_type": "code",
   "execution_count": 185,
   "metadata": {},
   "outputs": [],
   "source": [
    "#companies.permalink = companies.permalink.apply(lambda x : unidecode(x))  --- didnt convert correctly, not satisfied\n",
    "companies['permalink'] = companies['permalink'].apply(lambda x : x.encode('ascii', 'ignore').decode('ascii', 'ignore'))\n",
    "companies['name'] = companies['name'].astype('str').apply(lambda x : x.encode('ascii', 'ignore').decode('ascii', 'ignore'))"
   ]
  },
  {
   "cell_type": "code",
   "execution_count": 186,
   "metadata": {},
   "outputs": [
    {
     "data": {
      "text/html": [
       "<div>\n",
       "<style scoped>\n",
       "    .dataframe tbody tr th:only-of-type {\n",
       "        vertical-align: middle;\n",
       "    }\n",
       "\n",
       "    .dataframe tbody tr th {\n",
       "        vertical-align: top;\n",
       "    }\n",
       "\n",
       "    .dataframe thead th {\n",
       "        text-align: right;\n",
       "    }\n",
       "</style>\n",
       "<table border=\"1\" class=\"dataframe\">\n",
       "  <thead>\n",
       "    <tr style=\"text-align: right;\">\n",
       "      <th></th>\n",
       "      <th>permalink</th>\n",
       "      <th>name</th>\n",
       "      <th>homepage_url</th>\n",
       "      <th>category_list</th>\n",
       "      <th>status</th>\n",
       "      <th>country_code</th>\n",
       "      <th>state_code</th>\n",
       "      <th>region</th>\n",
       "      <th>city</th>\n",
       "      <th>founded_at</th>\n",
       "    </tr>\n",
       "  </thead>\n",
       "  <tbody>\n",
       "    <tr>\n",
       "      <th>66363</th>\n",
       "      <td>/Organization/Zznode-Science-And-Technology-Co...</td>\n",
       "      <td>ZZNode Science and Technology</td>\n",
       "      <td>http://www.zznode.com</td>\n",
       "      <td>Enterprise Software</td>\n",
       "      <td>operating</td>\n",
       "      <td>CHN</td>\n",
       "      <td>22</td>\n",
       "      <td>Beijing</td>\n",
       "      <td>Beijing</td>\n",
       "      <td>NaN</td>\n",
       "    </tr>\n",
       "    <tr>\n",
       "      <th>66364</th>\n",
       "      <td>/Organization/Zzzzapp-Com</td>\n",
       "      <td>Zzzzapp Wireless ltd.</td>\n",
       "      <td>http://www.zzzzapp.com</td>\n",
       "      <td>Advertising|Mobile|Web Development|Wireless</td>\n",
       "      <td>operating</td>\n",
       "      <td>HRV</td>\n",
       "      <td>15</td>\n",
       "      <td>Split</td>\n",
       "      <td>Split</td>\n",
       "      <td>13-05-2012</td>\n",
       "    </tr>\n",
       "    <tr>\n",
       "      <th>66365</th>\n",
       "      <td>/Organization/Eron</td>\n",
       "      <td>ERON</td>\n",
       "      <td>http://www.aeron.hu/</td>\n",
       "      <td>NaN</td>\n",
       "      <td>operating</td>\n",
       "      <td>NaN</td>\n",
       "      <td>NaN</td>\n",
       "      <td>NaN</td>\n",
       "      <td>NaN</td>\n",
       "      <td>01-01-2011</td>\n",
       "    </tr>\n",
       "    <tr>\n",
       "      <th>66366</th>\n",
       "      <td>/Organization/Asys-2</td>\n",
       "      <td>asys</td>\n",
       "      <td>http://www.oasys.io/</td>\n",
       "      <td>Consumer Electronics|Internet of Things|Teleco...</td>\n",
       "      <td>operating</td>\n",
       "      <td>USA</td>\n",
       "      <td>CA</td>\n",
       "      <td>SF Bay Area</td>\n",
       "      <td>San Francisco</td>\n",
       "      <td>01-01-2014</td>\n",
       "    </tr>\n",
       "    <tr>\n",
       "      <th>66367</th>\n",
       "      <td>/Organization/Novatiff-Reklam-Ve-TanTM-Hizmetl...</td>\n",
       "      <td>novatiff Reklam ve Tantm Hizmetleri Tic</td>\n",
       "      <td>http://inovatiff.com</td>\n",
       "      <td>Consumer Goods|E-Commerce|Internet</td>\n",
       "      <td>operating</td>\n",
       "      <td>NaN</td>\n",
       "      <td>NaN</td>\n",
       "      <td>NaN</td>\n",
       "      <td>NaN</td>\n",
       "      <td>NaN</td>\n",
       "    </tr>\n",
       "  </tbody>\n",
       "</table>\n",
       "</div>"
      ],
      "text/plain": [
       "                                               permalink  \\\n",
       "66363  /Organization/Zznode-Science-And-Technology-Co...   \n",
       "66364                          /Organization/Zzzzapp-Com   \n",
       "66365                                 /Organization/Eron   \n",
       "66366                               /Organization/Asys-2   \n",
       "66367  /Organization/Novatiff-Reklam-Ve-TanTM-Hizmetl...   \n",
       "\n",
       "                                          name            homepage_url  \\\n",
       "66363            ZZNode Science and Technology   http://www.zznode.com   \n",
       "66364                    Zzzzapp Wireless ltd.  http://www.zzzzapp.com   \n",
       "66365                                     ERON    http://www.aeron.hu/   \n",
       "66366                                     asys    http://www.oasys.io/   \n",
       "66367  novatiff Reklam ve Tantm Hizmetleri Tic    http://inovatiff.com   \n",
       "\n",
       "                                           category_list     status  \\\n",
       "66363                                Enterprise Software  operating   \n",
       "66364        Advertising|Mobile|Web Development|Wireless  operating   \n",
       "66365                                                NaN  operating   \n",
       "66366  Consumer Electronics|Internet of Things|Teleco...  operating   \n",
       "66367                 Consumer Goods|E-Commerce|Internet  operating   \n",
       "\n",
       "      country_code state_code       region           city  founded_at  \n",
       "66363          CHN         22      Beijing        Beijing         NaN  \n",
       "66364          HRV         15        Split          Split  13-05-2012  \n",
       "66365          NaN        NaN          NaN            NaN  01-01-2011  \n",
       "66366          USA         CA  SF Bay Area  San Francisco  01-01-2014  \n",
       "66367          NaN        NaN          NaN            NaN         NaN  "
      ]
     },
     "execution_count": 186,
     "metadata": {},
     "output_type": "execute_result"
    }
   ],
   "source": [
    "companies.tail()"
   ]
  },
  {
   "cell_type": "code",
   "execution_count": 187,
   "metadata": {},
   "outputs": [
    {
     "data": {
      "text/html": [
       "<div>\n",
       "<style scoped>\n",
       "    .dataframe tbody tr th:only-of-type {\n",
       "        vertical-align: middle;\n",
       "    }\n",
       "\n",
       "    .dataframe tbody tr th {\n",
       "        vertical-align: top;\n",
       "    }\n",
       "\n",
       "    .dataframe thead th {\n",
       "        text-align: right;\n",
       "    }\n",
       "</style>\n",
       "<table border=\"1\" class=\"dataframe\">\n",
       "  <thead>\n",
       "    <tr style=\"text-align: right;\">\n",
       "      <th></th>\n",
       "      <th>company_permalink</th>\n",
       "      <th>funding_round_permalink</th>\n",
       "      <th>funding_round_type</th>\n",
       "      <th>funding_round_code</th>\n",
       "      <th>funded_at</th>\n",
       "      <th>raised_amount_usd</th>\n",
       "    </tr>\n",
       "  </thead>\n",
       "  <tbody>\n",
       "    <tr>\n",
       "      <th>114944</th>\n",
       "      <td>/organization/zzzzapp-com</td>\n",
       "      <td>/funding-round/8f6d25b8ee4199e586484d817bceda05</td>\n",
       "      <td>convertible_note</td>\n",
       "      <td>NaN</td>\n",
       "      <td>01-03-2014</td>\n",
       "      <td>41313.0</td>\n",
       "    </tr>\n",
       "    <tr>\n",
       "      <th>114945</th>\n",
       "      <td>/ORGANIZATION/ZZZZAPP-COM</td>\n",
       "      <td>/funding-round/ff1aa06ed5da186c84f101549035d4ae</td>\n",
       "      <td>seed</td>\n",
       "      <td>NaN</td>\n",
       "      <td>01-05-2013</td>\n",
       "      <td>32842.0</td>\n",
       "    </tr>\n",
       "    <tr>\n",
       "      <th>114946</th>\n",
       "      <td>/organization/ãeron</td>\n",
       "      <td>/funding-round/59f4dce44723b794f21ded3daed6e4fe</td>\n",
       "      <td>venture</td>\n",
       "      <td>A</td>\n",
       "      <td>01-08-2014</td>\n",
       "      <td>NaN</td>\n",
       "    </tr>\n",
       "    <tr>\n",
       "      <th>114947</th>\n",
       "      <td>/ORGANIZATION/ÃASYS-2</td>\n",
       "      <td>/funding-round/35f09d0794651719b02bbfd859ba9ff5</td>\n",
       "      <td>seed</td>\n",
       "      <td>NaN</td>\n",
       "      <td>01-01-2015</td>\n",
       "      <td>18192.0</td>\n",
       "    </tr>\n",
       "    <tr>\n",
       "      <th>114948</th>\n",
       "      <td>/organization/ä°novatiff-reklam-ve-tanä±tä±m-h...</td>\n",
       "      <td>/funding-round/af942869878d2cd788ef5189b435ebc4</td>\n",
       "      <td>grant</td>\n",
       "      <td>NaN</td>\n",
       "      <td>01-10-2013</td>\n",
       "      <td>14851.0</td>\n",
       "    </tr>\n",
       "  </tbody>\n",
       "</table>\n",
       "</div>"
      ],
      "text/plain": [
       "                                        company_permalink  \\\n",
       "114944                          /organization/zzzzapp-com   \n",
       "114945                          /ORGANIZATION/ZZZZAPP-COM   \n",
       "114946                               /organization/ãeron   \n",
       "114947                             /ORGANIZATION/ÃASYS-2   \n",
       "114948  /organization/ä°novatiff-reklam-ve-tanä±tä±m-h...   \n",
       "\n",
       "                                funding_round_permalink funding_round_type  \\\n",
       "114944  /funding-round/8f6d25b8ee4199e586484d817bceda05   convertible_note   \n",
       "114945  /funding-round/ff1aa06ed5da186c84f101549035d4ae               seed   \n",
       "114946  /funding-round/59f4dce44723b794f21ded3daed6e4fe            venture   \n",
       "114947  /funding-round/35f09d0794651719b02bbfd859ba9ff5               seed   \n",
       "114948  /funding-round/af942869878d2cd788ef5189b435ebc4              grant   \n",
       "\n",
       "       funding_round_code   funded_at  raised_amount_usd  \n",
       "114944                NaN  01-03-2014            41313.0  \n",
       "114945                NaN  01-05-2013            32842.0  \n",
       "114946                  A  01-08-2014                NaN  \n",
       "114947                NaN  01-01-2015            18192.0  \n",
       "114948                NaN  01-10-2013            14851.0  "
      ]
     },
     "execution_count": 187,
     "metadata": {},
     "output_type": "execute_result"
    }
   ],
   "source": [
    "rounds2.tail()"
   ]
  },
  {
   "cell_type": "code",
   "execution_count": 188,
   "metadata": {},
   "outputs": [],
   "source": [
    "rounds2['company_permalink'] = rounds2['company_permalink'].apply(lambda x : x.encode('ascii', 'ignore').decode('ascii', 'ignore'))"
   ]
  },
  {
   "cell_type": "code",
   "execution_count": 189,
   "metadata": {
    "scrolled": true
   },
   "outputs": [
    {
     "data": {
      "text/html": [
       "<div>\n",
       "<style scoped>\n",
       "    .dataframe tbody tr th:only-of-type {\n",
       "        vertical-align: middle;\n",
       "    }\n",
       "\n",
       "    .dataframe tbody tr th {\n",
       "        vertical-align: top;\n",
       "    }\n",
       "\n",
       "    .dataframe thead th {\n",
       "        text-align: right;\n",
       "    }\n",
       "</style>\n",
       "<table border=\"1\" class=\"dataframe\">\n",
       "  <thead>\n",
       "    <tr style=\"text-align: right;\">\n",
       "      <th></th>\n",
       "      <th>company_permalink</th>\n",
       "      <th>funding_round_permalink</th>\n",
       "      <th>funding_round_type</th>\n",
       "      <th>funding_round_code</th>\n",
       "      <th>funded_at</th>\n",
       "      <th>raised_amount_usd</th>\n",
       "    </tr>\n",
       "  </thead>\n",
       "  <tbody>\n",
       "    <tr>\n",
       "      <th>114944</th>\n",
       "      <td>/organization/zzzzapp-com</td>\n",
       "      <td>/funding-round/8f6d25b8ee4199e586484d817bceda05</td>\n",
       "      <td>convertible_note</td>\n",
       "      <td>NaN</td>\n",
       "      <td>01-03-2014</td>\n",
       "      <td>41313.0</td>\n",
       "    </tr>\n",
       "    <tr>\n",
       "      <th>114945</th>\n",
       "      <td>/ORGANIZATION/ZZZZAPP-COM</td>\n",
       "      <td>/funding-round/ff1aa06ed5da186c84f101549035d4ae</td>\n",
       "      <td>seed</td>\n",
       "      <td>NaN</td>\n",
       "      <td>01-05-2013</td>\n",
       "      <td>32842.0</td>\n",
       "    </tr>\n",
       "    <tr>\n",
       "      <th>114946</th>\n",
       "      <td>/organization/eron</td>\n",
       "      <td>/funding-round/59f4dce44723b794f21ded3daed6e4fe</td>\n",
       "      <td>venture</td>\n",
       "      <td>A</td>\n",
       "      <td>01-08-2014</td>\n",
       "      <td>NaN</td>\n",
       "    </tr>\n",
       "    <tr>\n",
       "      <th>114947</th>\n",
       "      <td>/ORGANIZATION/ASYS-2</td>\n",
       "      <td>/funding-round/35f09d0794651719b02bbfd859ba9ff5</td>\n",
       "      <td>seed</td>\n",
       "      <td>NaN</td>\n",
       "      <td>01-01-2015</td>\n",
       "      <td>18192.0</td>\n",
       "    </tr>\n",
       "    <tr>\n",
       "      <th>114948</th>\n",
       "      <td>/organization/novatiff-reklam-ve-tantm-hizmetl...</td>\n",
       "      <td>/funding-round/af942869878d2cd788ef5189b435ebc4</td>\n",
       "      <td>grant</td>\n",
       "      <td>NaN</td>\n",
       "      <td>01-10-2013</td>\n",
       "      <td>14851.0</td>\n",
       "    </tr>\n",
       "  </tbody>\n",
       "</table>\n",
       "</div>"
      ],
      "text/plain": [
       "                                        company_permalink  \\\n",
       "114944                          /organization/zzzzapp-com   \n",
       "114945                          /ORGANIZATION/ZZZZAPP-COM   \n",
       "114946                                 /organization/eron   \n",
       "114947                               /ORGANIZATION/ASYS-2   \n",
       "114948  /organization/novatiff-reklam-ve-tantm-hizmetl...   \n",
       "\n",
       "                                funding_round_permalink funding_round_type  \\\n",
       "114944  /funding-round/8f6d25b8ee4199e586484d817bceda05   convertible_note   \n",
       "114945  /funding-round/ff1aa06ed5da186c84f101549035d4ae               seed   \n",
       "114946  /funding-round/59f4dce44723b794f21ded3daed6e4fe            venture   \n",
       "114947  /funding-round/35f09d0794651719b02bbfd859ba9ff5               seed   \n",
       "114948  /funding-round/af942869878d2cd788ef5189b435ebc4              grant   \n",
       "\n",
       "       funding_round_code   funded_at  raised_amount_usd  \n",
       "114944                NaN  01-03-2014            41313.0  \n",
       "114945                NaN  01-05-2013            32842.0  \n",
       "114946                  A  01-08-2014                NaN  \n",
       "114947                NaN  01-01-2015            18192.0  \n",
       "114948                NaN  01-10-2013            14851.0  "
      ]
     },
     "execution_count": 189,
     "metadata": {},
     "output_type": "execute_result"
    }
   ],
   "source": [
    "rounds2.tail()"
   ]
  },
  {
   "cell_type": "code",
   "execution_count": 190,
   "metadata": {},
   "outputs": [
    {
     "data": {
      "text/plain": [
       "(114949, 6)"
      ]
     },
     "execution_count": 190,
     "metadata": {},
     "output_type": "execute_result"
    }
   ],
   "source": [
    "rounds2.shape"
   ]
  },
  {
   "cell_type": "code",
   "execution_count": 191,
   "metadata": {},
   "outputs": [
    {
     "data": {
      "text/plain": [
       "(66368, 10)"
      ]
     },
     "execution_count": 191,
     "metadata": {},
     "output_type": "execute_result"
    }
   ],
   "source": [
    "companies.shape"
   ]
  },
  {
   "cell_type": "markdown",
   "metadata": {},
   "source": [
    "# Checkpoint 1: Data Cleaning 1"
   ]
  },
  {
   "cell_type": "markdown",
   "metadata": {},
   "source": [
    "### Checking for null values in Company"
   ]
  },
  {
   "cell_type": "code",
   "execution_count": 192,
   "metadata": {},
   "outputs": [
    {
     "data": {
      "text/plain": [
       "permalink            0\n",
       "name                 0\n",
       "homepage_url      5058\n",
       "category_list     3148\n",
       "status               0\n",
       "country_code      6958\n",
       "state_code        8547\n",
       "region            8030\n",
       "city              8028\n",
       "founded_at       15221\n",
       "dtype: int64"
      ]
     },
     "execution_count": 192,
     "metadata": {},
     "output_type": "execute_result"
    }
   ],
   "source": [
    "companies.isnull().sum()"
   ]
  },
  {
   "cell_type": "code",
   "execution_count": 193,
   "metadata": {},
   "outputs": [
    {
     "data": {
      "text/plain": [
       "company_permalink              0\n",
       "funding_round_permalink        0\n",
       "funding_round_type             0\n",
       "funding_round_code         83809\n",
       "funded_at                      0\n",
       "raised_amount_usd          19990\n",
       "dtype: int64"
      ]
     },
     "execution_count": 193,
     "metadata": {},
     "output_type": "execute_result"
    }
   ],
   "source": [
    "rounds2.isnull().sum()"
   ]
  },
  {
   "cell_type": "code",
   "execution_count": 194,
   "metadata": {},
   "outputs": [
    {
     "data": {
      "text/plain": [
       "(3998, 10)"
      ]
     },
     "execution_count": 194,
     "metadata": {},
     "output_type": "execute_result"
    }
   ],
   "source": [
    "companies[companies.isnull().sum(axis = 1) > 4].shape"
   ]
  },
  {
   "cell_type": "code",
   "execution_count": 195,
   "metadata": {},
   "outputs": [
    {
     "data": {
      "text/plain": [
       "(0, 6)"
      ]
     },
     "execution_count": 195,
     "metadata": {},
     "output_type": "execute_result"
    }
   ],
   "source": [
    "rounds2[rounds2.isnull().sum(axis = 1) > 2].shape"
   ]
  },
  {
   "cell_type": "code",
   "execution_count": 196,
   "metadata": {},
   "outputs": [
    {
     "data": {
      "text/html": [
       "<div>\n",
       "<style scoped>\n",
       "    .dataframe tbody tr th:only-of-type {\n",
       "        vertical-align: middle;\n",
       "    }\n",
       "\n",
       "    .dataframe tbody tr th {\n",
       "        vertical-align: top;\n",
       "    }\n",
       "\n",
       "    .dataframe thead th {\n",
       "        text-align: right;\n",
       "    }\n",
       "</style>\n",
       "<table border=\"1\" class=\"dataframe\">\n",
       "  <thead>\n",
       "    <tr style=\"text-align: right;\">\n",
       "      <th></th>\n",
       "      <th>company_permalink</th>\n",
       "      <th>funding_round_permalink</th>\n",
       "      <th>funding_round_type</th>\n",
       "      <th>funding_round_code</th>\n",
       "      <th>funded_at</th>\n",
       "      <th>raised_amount_usd</th>\n",
       "    </tr>\n",
       "  </thead>\n",
       "  <tbody>\n",
       "    <tr>\n",
       "      <th>1</th>\n",
       "      <td>/ORGANIZATION/-QOUNTER</td>\n",
       "      <td>/funding-round/22dacff496eb7acb2b901dec1dfe5633</td>\n",
       "      <td>venture</td>\n",
       "      <td>A</td>\n",
       "      <td>14-10-2014</td>\n",
       "      <td>NaN</td>\n",
       "    </tr>\n",
       "    <tr>\n",
       "      <th>5</th>\n",
       "      <td>/ORGANIZATION/004-TECHNOLOGIES</td>\n",
       "      <td>/funding-round/1278dd4e6a37fa4b7d7e06c21b3c1830</td>\n",
       "      <td>venture</td>\n",
       "      <td>NaN</td>\n",
       "      <td>24-07-2014</td>\n",
       "      <td>NaN</td>\n",
       "    </tr>\n",
       "    <tr>\n",
       "      <th>14</th>\n",
       "      <td>/organization/1</td>\n",
       "      <td>/funding-round/5de6d8828aef7d925d97918d15727670</td>\n",
       "      <td>undisclosed</td>\n",
       "      <td>NaN</td>\n",
       "      <td>05-02-2013</td>\n",
       "      <td>NaN</td>\n",
       "    </tr>\n",
       "    <tr>\n",
       "      <th>17</th>\n",
       "      <td>/ORGANIZATION/1-4-ALL</td>\n",
       "      <td>/funding-round/e97a192e13ea0ee3c4f71136b4f3ec16</td>\n",
       "      <td>equity_crowdfunding</td>\n",
       "      <td>NaN</td>\n",
       "      <td>21-04-2013</td>\n",
       "      <td>NaN</td>\n",
       "    </tr>\n",
       "    <tr>\n",
       "      <th>18</th>\n",
       "      <td>/organization/1-618-technology</td>\n",
       "      <td>/funding-round/83b8f4c7d37ecef5e001a5e953bf461a</td>\n",
       "      <td>equity_crowdfunding</td>\n",
       "      <td>NaN</td>\n",
       "      <td>22-01-2014</td>\n",
       "      <td>NaN</td>\n",
       "    </tr>\n",
       "    <tr>\n",
       "      <th>...</th>\n",
       "      <td>...</td>\n",
       "      <td>...</td>\n",
       "      <td>...</td>\n",
       "      <td>...</td>\n",
       "      <td>...</td>\n",
       "      <td>...</td>\n",
       "    </tr>\n",
       "    <tr>\n",
       "      <th>114899</th>\n",
       "      <td>/ORGANIZATION/ZYMR-INC-</td>\n",
       "      <td>/funding-round/9048d1a80edeae803ed1790c9f473eec</td>\n",
       "      <td>angel</td>\n",
       "      <td>NaN</td>\n",
       "      <td>12-12-2012</td>\n",
       "      <td>NaN</td>\n",
       "    </tr>\n",
       "    <tr>\n",
       "      <th>114905</th>\n",
       "      <td>/ORGANIZATION/ZYNERGY-PROJECTS-SERVICES</td>\n",
       "      <td>/funding-round/3d7dbd2d92220d93e2b5455f914a0918</td>\n",
       "      <td>venture</td>\n",
       "      <td>NaN</td>\n",
       "      <td>19-08-2015</td>\n",
       "      <td>NaN</td>\n",
       "    </tr>\n",
       "    <tr>\n",
       "      <th>114913</th>\n",
       "      <td>/ORGANIZATION/ZYNGA</td>\n",
       "      <td>/funding-round/d27f10a20b15b4ef3d9961d54eabf6b1</td>\n",
       "      <td>angel</td>\n",
       "      <td>NaN</td>\n",
       "      <td>01-01-2007</td>\n",
       "      <td>NaN</td>\n",
       "    </tr>\n",
       "    <tr>\n",
       "      <th>114927</th>\n",
       "      <td>/ORGANIZATION/ZYPSEE</td>\n",
       "      <td>/funding-round/c67e22c5448435adaf5a2d101e449dde</td>\n",
       "      <td>seed</td>\n",
       "      <td>NaN</td>\n",
       "      <td>26-07-2013</td>\n",
       "      <td>NaN</td>\n",
       "    </tr>\n",
       "    <tr>\n",
       "      <th>114946</th>\n",
       "      <td>/organization/eron</td>\n",
       "      <td>/funding-round/59f4dce44723b794f21ded3daed6e4fe</td>\n",
       "      <td>venture</td>\n",
       "      <td>A</td>\n",
       "      <td>01-08-2014</td>\n",
       "      <td>NaN</td>\n",
       "    </tr>\n",
       "  </tbody>\n",
       "</table>\n",
       "<p>19990 rows × 6 columns</p>\n",
       "</div>"
      ],
      "text/plain": [
       "                              company_permalink  \\\n",
       "1                        /ORGANIZATION/-QOUNTER   \n",
       "5                /ORGANIZATION/004-TECHNOLOGIES   \n",
       "14                              /organization/1   \n",
       "17                        /ORGANIZATION/1-4-ALL   \n",
       "18               /organization/1-618-technology   \n",
       "...                                         ...   \n",
       "114899                  /ORGANIZATION/ZYMR-INC-   \n",
       "114905  /ORGANIZATION/ZYNERGY-PROJECTS-SERVICES   \n",
       "114913                      /ORGANIZATION/ZYNGA   \n",
       "114927                     /ORGANIZATION/ZYPSEE   \n",
       "114946                       /organization/eron   \n",
       "\n",
       "                                funding_round_permalink   funding_round_type  \\\n",
       "1       /funding-round/22dacff496eb7acb2b901dec1dfe5633              venture   \n",
       "5       /funding-round/1278dd4e6a37fa4b7d7e06c21b3c1830              venture   \n",
       "14      /funding-round/5de6d8828aef7d925d97918d15727670          undisclosed   \n",
       "17      /funding-round/e97a192e13ea0ee3c4f71136b4f3ec16  equity_crowdfunding   \n",
       "18      /funding-round/83b8f4c7d37ecef5e001a5e953bf461a  equity_crowdfunding   \n",
       "...                                                 ...                  ...   \n",
       "114899  /funding-round/9048d1a80edeae803ed1790c9f473eec                angel   \n",
       "114905  /funding-round/3d7dbd2d92220d93e2b5455f914a0918              venture   \n",
       "114913  /funding-round/d27f10a20b15b4ef3d9961d54eabf6b1                angel   \n",
       "114927  /funding-round/c67e22c5448435adaf5a2d101e449dde                 seed   \n",
       "114946  /funding-round/59f4dce44723b794f21ded3daed6e4fe              venture   \n",
       "\n",
       "       funding_round_code   funded_at  raised_amount_usd  \n",
       "1                       A  14-10-2014                NaN  \n",
       "5                     NaN  24-07-2014                NaN  \n",
       "14                    NaN  05-02-2013                NaN  \n",
       "17                    NaN  21-04-2013                NaN  \n",
       "18                    NaN  22-01-2014                NaN  \n",
       "...                   ...         ...                ...  \n",
       "114899                NaN  12-12-2012                NaN  \n",
       "114905                NaN  19-08-2015                NaN  \n",
       "114913                NaN  01-01-2007                NaN  \n",
       "114927                NaN  26-07-2013                NaN  \n",
       "114946                  A  01-08-2014                NaN  \n",
       "\n",
       "[19990 rows x 6 columns]"
      ]
     },
     "execution_count": 196,
     "metadata": {},
     "output_type": "execute_result"
    }
   ],
   "source": [
    "rounds2[rounds2.raised_amount_usd.isnull()]"
   ]
  },
  {
   "cell_type": "code",
   "execution_count": 197,
   "metadata": {},
   "outputs": [
    {
     "data": {
      "text/plain": [
       "<matplotlib.axes._subplots.AxesSubplot at 0x16e5e08d588>"
      ]
     },
     "execution_count": 197,
     "metadata": {},
     "output_type": "execute_result"
    },
    {
     "data": {
      "image/png": "[encoded data removed]",
      "text/plain": [
       "<Figure size 432x288 with 1 Axes>"
      ]
     },
     "metadata": {
      "needs_background": "light"
     },
     "output_type": "display_data"
    }
   ],
   "source": [
    "sns.boxplot(data = rounds2, y = 'funding_round_type' , x = 'raised_amount_usd' )\n",
    "#Outliers present"
   ]
  },
  {
   "cell_type": "code",
   "execution_count": 198,
   "metadata": {},
   "outputs": [
    {
     "data": {
      "text/plain": [
       "funding_round_type\n",
       "angel                      400000.0\n",
       "convertible_note           272000.0\n",
       "debt_financing            1100000.0\n",
       "equity_crowdfunding        100000.0\n",
       "grant                      201684.0\n",
       "non_equity_assistance       60000.0\n",
       "post_ipo_debt            19950000.0\n",
       "post_ipo_equity          12262852.5\n",
       "private_equity           20000000.0\n",
       "product_crowdfunding       183915.0\n",
       "secondary_market         32600000.0\n",
       "seed                       275000.0\n",
       "undisclosed               1018680.0\n",
       "venture                   5000000.0\n",
       "Name: raised_amount_usd, dtype: float64"
      ]
     },
     "execution_count": 198,
     "metadata": {},
     "output_type": "execute_result"
    }
   ],
   "source": [
    "rounds2.groupby(\"funding_round_type\")[\"raised_amount_usd\"].median()"
   ]
  },
  {
   "cell_type": "code",
   "execution_count": 199,
   "metadata": {},
   "outputs": [
    {
     "data": {
      "text/plain": [
       "funding_round_type\n",
       "angel                    1234\n",
       "convertible_note          370\n",
       "debt_financing            213\n",
       "equity_crowdfunding      2029\n",
       "grant                      76\n",
       "non_equity_assistance     118\n",
       "post_ipo_equity            10\n",
       "private_equity            349\n",
       "product_crowdfunding       24\n",
       "secondary_market           65\n",
       "seed                     6921\n",
       "undisclosed              3315\n",
       "venture                  5266\n",
       "Name: company_permalink, dtype: int64"
      ]
     },
     "execution_count": 199,
     "metadata": {},
     "output_type": "execute_result"
    }
   ],
   "source": [
    "rounds2[rounds2[\"raised_amount_usd\"].isnull()] .groupby(\"funding_round_type\")['company_permalink'].count()"
   ]
  },
  {
   "cell_type": "code",
   "execution_count": 200,
   "metadata": {},
   "outputs": [
    {
     "data": {
      "text/plain": [
       "17.390320924931927"
      ]
     },
     "execution_count": 200,
     "metadata": {},
     "output_type": "execute_result"
    }
   ],
   "source": [
    "(19990/114949)*100 #17% data is null values"
   ]
  },
  {
   "cell_type": "code",
   "execution_count": 201,
   "metadata": {},
   "outputs": [],
   "source": [
    "#Ignoring null values in funding_round_type for now. Will replace them in furture analysis if needed"
   ]
  },
  {
   "cell_type": "markdown",
   "metadata": {},
   "source": [
    "### Filling missing values"
   ]
  },
  {
   "cell_type": "code",
   "execution_count": 202,
   "metadata": {},
   "outputs": [
    {
     "data": {
      "text/html": [
       "<div>\n",
       "<style scoped>\n",
       "    .dataframe tbody tr th:only-of-type {\n",
       "        vertical-align: middle;\n",
       "    }\n",
       "\n",
       "    .dataframe tbody tr th {\n",
       "        vertical-align: top;\n",
       "    }\n",
       "\n",
       "    .dataframe thead th {\n",
       "        text-align: right;\n",
       "    }\n",
       "</style>\n",
       "<table border=\"1\" class=\"dataframe\">\n",
       "  <thead>\n",
       "    <tr style=\"text-align: right;\">\n",
       "      <th></th>\n",
       "      <th>permalink</th>\n",
       "      <th>name</th>\n",
       "      <th>homepage_url</th>\n",
       "      <th>category_list</th>\n",
       "      <th>status</th>\n",
       "      <th>country_code</th>\n",
       "      <th>state_code</th>\n",
       "      <th>region</th>\n",
       "      <th>city</th>\n",
       "      <th>founded_at</th>\n",
       "    </tr>\n",
       "  </thead>\n",
       "  <tbody>\n",
       "  </tbody>\n",
       "</table>\n",
       "</div>"
      ],
      "text/plain": [
       "Empty DataFrame\n",
       "Columns: [permalink, name, homepage_url, category_list, status, country_code, state_code, region, city, founded_at]\n",
       "Index: []"
      ]
     },
     "execution_count": 202,
     "metadata": {},
     "output_type": "execute_result"
    }
   ],
   "source": [
    "companies[companies.name.isnull()]"
   ]
  },
  {
   "cell_type": "code",
   "execution_count": 203,
   "metadata": {},
   "outputs": [],
   "source": [
    "companies.loc[companies['permalink'] == '/Organization/Tell-It-In','name'] = 'Tell It In'"
   ]
  },
  {
   "cell_type": "markdown",
   "metadata": {},
   "source": [
    "### Chaning permalink to lowercase so that they match in both dataframes"
   ]
  },
  {
   "cell_type": "code",
   "execution_count": 204,
   "metadata": {},
   "outputs": [],
   "source": [
    "rounds2[\"company_permalink\"] = rounds2[\"company_permalink\"].apply(lambda x : x.lower())"
   ]
  },
  {
   "cell_type": "code",
   "execution_count": 205,
   "metadata": {},
   "outputs": [],
   "source": [
    "companies[\"permalink\"] = companies[\"permalink\"].apply(lambda x : x.lower())"
   ]
  },
  {
   "cell_type": "markdown",
   "metadata": {},
   "source": [
    "### Adding ['permalink','name'] to rounds2 dataframe to get unique company names "
   ]
  },
  {
   "cell_type": "code",
   "execution_count": 206,
   "metadata": {},
   "outputs": [],
   "source": [
    "df_rounds = rounds2.merge(companies[['permalink','name']], how = 'left', left_on = \"company_permalink\", right_on = \"permalink\")"
   ]
  },
  {
   "cell_type": "markdown",
   "metadata": {},
   "source": [
    "### How many unique companies are present in rounds2?"
   ]
  },
  {
   "cell_type": "code",
   "execution_count": 207,
   "metadata": {},
   "outputs": [
    {
     "data": {
      "text/plain": [
       "66100"
      ]
     },
     "execution_count": 207,
     "metadata": {},
     "output_type": "execute_result"
    }
   ],
   "source": [
    "len(df_rounds.name.unique()) #Unique company names in rounds2 66100"
   ]
  },
  {
   "cell_type": "markdown",
   "metadata": {},
   "source": [
    "### How many unique companies are present in the companies file?"
   ]
  },
  {
   "cell_type": "code",
   "execution_count": 208,
   "metadata": {},
   "outputs": [
    {
     "data": {
      "text/plain": [
       "66100"
      ]
     },
     "execution_count": 208,
     "metadata": {},
     "output_type": "execute_result"
    }
   ],
   "source": [
    "len(companies.name.unique()) #Unique company_names in companies 66100"
   ]
  },
  {
   "cell_type": "markdown",
   "metadata": {},
   "source": [
    "### In the companies data frame, which column can be used as the  unique key for each company? Write the name of the column.m"
   ]
  },
  {
   "cell_type": "code",
   "execution_count": 209,
   "metadata": {},
   "outputs": [
    {
     "data": {
      "text/plain": [
       "66368"
      ]
     },
     "execution_count": 209,
     "metadata": {},
     "output_type": "execute_result"
    }
   ],
   "source": [
    "len(companies.permalink.value_counts().index.to_list()) "
   ]
  },
  {
   "cell_type": "code",
   "execution_count": 210,
   "metadata": {},
   "outputs": [
    {
     "data": {
      "text/plain": [
       "(66368, 10)"
      ]
     },
     "execution_count": 210,
     "metadata": {},
     "output_type": "execute_result"
    }
   ],
   "source": [
    "companies.shape #Answer : Permalink"
   ]
  },
  {
   "cell_type": "markdown",
   "metadata": {},
   "source": [
    "### Are there any companies in the rounds2 file which are not  present in companies ? Answer Y/N."
   ]
  },
  {
   "cell_type": "code",
   "execution_count": 211,
   "metadata": {},
   "outputs": [
    {
     "data": {
      "text/plain": [
       "0"
      ]
     },
     "execution_count": 211,
     "metadata": {},
     "output_type": "execute_result"
    }
   ],
   "source": [
    "df_rounds.name.isnull().sum() # Answer : N"
   ]
  },
  {
   "cell_type": "markdown",
   "metadata": {},
   "source": [
    "### Merge the two data frames so that all  variables (columns)  in the companies frame are added to the rounds2 data frame. Name the merged frame master_frame. How many observations are present in master_frame ?"
   ]
  },
  {
   "cell_type": "code",
   "execution_count": 212,
   "metadata": {},
   "outputs": [],
   "source": [
    "master_frame = rounds2.merge(companies, how = 'left', left_on = \"company_permalink\", right_on = \"permalink\")"
   ]
  },
  {
   "cell_type": "code",
   "execution_count": 213,
   "metadata": {},
   "outputs": [
    {
     "data": {
      "text/plain": [
       "0"
      ]
     },
     "execution_count": 213,
     "metadata": {},
     "output_type": "execute_result"
    }
   ],
   "source": [
    "master_frame.name.isnull().sum() "
   ]
  },
  {
   "cell_type": "code",
   "execution_count": 214,
   "metadata": {},
   "outputs": [
    {
     "data": {
      "text/plain": [
       "(114949, 16)"
      ]
     },
     "execution_count": 214,
     "metadata": {},
     "output_type": "execute_result"
    }
   ],
   "source": [
    "master_frame.shape # Answer : (114949, 16)"
   ]
  },
  {
   "cell_type": "markdown",
   "metadata": {},
   "source": [
    "# Table 2.1"
   ]
  },
  {
   "cell_type": "markdown",
   "metadata": {},
   "source": [
    "### Cleaning master_frame\n",
    "\n",
    "### droping one permalink column as it is redudant"
   ]
  },
  {
   "cell_type": "code",
   "execution_count": 215,
   "metadata": {},
   "outputs": [],
   "source": [
    "master_frame.drop(columns='permalink', inplace = True)"
   ]
  },
  {
   "cell_type": "code",
   "execution_count": 216,
   "metadata": {},
   "outputs": [
    {
     "data": {
      "text/html": [
       "<div>\n",
       "<style scoped>\n",
       "    .dataframe tbody tr th:only-of-type {\n",
       "        vertical-align: middle;\n",
       "    }\n",
       "\n",
       "    .dataframe tbody tr th {\n",
       "        vertical-align: top;\n",
       "    }\n",
       "\n",
       "    .dataframe thead th {\n",
       "        text-align: right;\n",
       "    }\n",
       "</style>\n",
       "<table border=\"1\" class=\"dataframe\">\n",
       "  <thead>\n",
       "    <tr style=\"text-align: right;\">\n",
       "      <th></th>\n",
       "      <th>company_permalink</th>\n",
       "      <th>funding_round_permalink</th>\n",
       "      <th>funding_round_type</th>\n",
       "      <th>funding_round_code</th>\n",
       "      <th>funded_at</th>\n",
       "      <th>raised_amount_usd</th>\n",
       "      <th>name</th>\n",
       "      <th>homepage_url</th>\n",
       "      <th>category_list</th>\n",
       "      <th>status</th>\n",
       "      <th>country_code</th>\n",
       "      <th>state_code</th>\n",
       "      <th>region</th>\n",
       "      <th>city</th>\n",
       "      <th>founded_at</th>\n",
       "    </tr>\n",
       "  </thead>\n",
       "  <tbody>\n",
       "    <tr>\n",
       "      <th>0</th>\n",
       "      <td>/organization/-fame</td>\n",
       "      <td>/funding-round/9a01d05418af9f794eebff7ace91f638</td>\n",
       "      <td>venture</td>\n",
       "      <td>B</td>\n",
       "      <td>05-01-2015</td>\n",
       "      <td>10000000.0</td>\n",
       "      <td>#fame</td>\n",
       "      <td>http://livfame.com</td>\n",
       "      <td>Media</td>\n",
       "      <td>operating</td>\n",
       "      <td>IND</td>\n",
       "      <td>16</td>\n",
       "      <td>Mumbai</td>\n",
       "      <td>Mumbai</td>\n",
       "      <td>NaN</td>\n",
       "    </tr>\n",
       "  </tbody>\n",
       "</table>\n",
       "</div>"
      ],
      "text/plain": [
       "     company_permalink                          funding_round_permalink  \\\n",
       "0  /organization/-fame  /funding-round/9a01d05418af9f794eebff7ace91f638   \n",
       "\n",
       "  funding_round_type funding_round_code   funded_at  raised_amount_usd   name  \\\n",
       "0            venture                  B  05-01-2015         10000000.0  #fame   \n",
       "\n",
       "         homepage_url category_list     status country_code state_code  \\\n",
       "0  http://livfame.com         Media  operating          IND         16   \n",
       "\n",
       "   region    city founded_at  \n",
       "0  Mumbai  Mumbai        NaN  "
      ]
     },
     "execution_count": 216,
     "metadata": {},
     "output_type": "execute_result"
    }
   ],
   "source": [
    "master_frame.head(1)"
   ]
  },
  {
   "cell_type": "markdown",
   "metadata": {},
   "source": [
    "### Droping unawanted columns from master_frame"
   ]
  },
  {
   "cell_type": "code",
   "execution_count": 217,
   "metadata": {},
   "outputs": [],
   "source": [
    "master_frame.drop(columns=['funding_round_permalink','funding_round_code','funded_at','homepage_url','state_code','region','city','founded_at'], inplace = True)"
   ]
  },
  {
   "cell_type": "code",
   "execution_count": 218,
   "metadata": {
    "scrolled": true
   },
   "outputs": [
    {
     "data": {
      "text/html": [
       "<div>\n",
       "<style scoped>\n",
       "    .dataframe tbody tr th:only-of-type {\n",
       "        vertical-align: middle;\n",
       "    }\n",
       "\n",
       "    .dataframe tbody tr th {\n",
       "        vertical-align: top;\n",
       "    }\n",
       "\n",
       "    .dataframe thead th {\n",
       "        text-align: right;\n",
       "    }\n",
       "</style>\n",
       "<table border=\"1\" class=\"dataframe\">\n",
       "  <thead>\n",
       "    <tr style=\"text-align: right;\">\n",
       "      <th></th>\n",
       "      <th>company_permalink</th>\n",
       "      <th>funding_round_type</th>\n",
       "      <th>raised_amount_usd</th>\n",
       "      <th>name</th>\n",
       "      <th>category_list</th>\n",
       "      <th>status</th>\n",
       "      <th>country_code</th>\n",
       "    </tr>\n",
       "  </thead>\n",
       "  <tbody>\n",
       "    <tr>\n",
       "      <th>0</th>\n",
       "      <td>/organization/-fame</td>\n",
       "      <td>venture</td>\n",
       "      <td>10000000.0</td>\n",
       "      <td>#fame</td>\n",
       "      <td>Media</td>\n",
       "      <td>operating</td>\n",
       "      <td>IND</td>\n",
       "    </tr>\n",
       "    <tr>\n",
       "      <th>1</th>\n",
       "      <td>/organization/-qounter</td>\n",
       "      <td>venture</td>\n",
       "      <td>NaN</td>\n",
       "      <td>:Qounter</td>\n",
       "      <td>Application Platforms|Real Time|Social Network...</td>\n",
       "      <td>operating</td>\n",
       "      <td>USA</td>\n",
       "    </tr>\n",
       "    <tr>\n",
       "      <th>2</th>\n",
       "      <td>/organization/-qounter</td>\n",
       "      <td>seed</td>\n",
       "      <td>700000.0</td>\n",
       "      <td>:Qounter</td>\n",
       "      <td>Application Platforms|Real Time|Social Network...</td>\n",
       "      <td>operating</td>\n",
       "      <td>USA</td>\n",
       "    </tr>\n",
       "    <tr>\n",
       "      <th>3</th>\n",
       "      <td>/organization/-the-one-of-them-inc-</td>\n",
       "      <td>venture</td>\n",
       "      <td>3406878.0</td>\n",
       "      <td>(THE) ONE of THEM,Inc.</td>\n",
       "      <td>Apps|Games|Mobile</td>\n",
       "      <td>operating</td>\n",
       "      <td>NaN</td>\n",
       "    </tr>\n",
       "    <tr>\n",
       "      <th>4</th>\n",
       "      <td>/organization/0-6-com</td>\n",
       "      <td>venture</td>\n",
       "      <td>2000000.0</td>\n",
       "      <td>0-6.com</td>\n",
       "      <td>Curated Web</td>\n",
       "      <td>operating</td>\n",
       "      <td>CHN</td>\n",
       "    </tr>\n",
       "    <tr>\n",
       "      <th>...</th>\n",
       "      <td>...</td>\n",
       "      <td>...</td>\n",
       "      <td>...</td>\n",
       "      <td>...</td>\n",
       "      <td>...</td>\n",
       "      <td>...</td>\n",
       "      <td>...</td>\n",
       "    </tr>\n",
       "    <tr>\n",
       "      <th>114944</th>\n",
       "      <td>/organization/zzzzapp-com</td>\n",
       "      <td>convertible_note</td>\n",
       "      <td>41313.0</td>\n",
       "      <td>Zzzzapp Wireless ltd.</td>\n",
       "      <td>Advertising|Mobile|Web Development|Wireless</td>\n",
       "      <td>operating</td>\n",
       "      <td>HRV</td>\n",
       "    </tr>\n",
       "    <tr>\n",
       "      <th>114945</th>\n",
       "      <td>/organization/zzzzapp-com</td>\n",
       "      <td>seed</td>\n",
       "      <td>32842.0</td>\n",
       "      <td>Zzzzapp Wireless ltd.</td>\n",
       "      <td>Advertising|Mobile|Web Development|Wireless</td>\n",
       "      <td>operating</td>\n",
       "      <td>HRV</td>\n",
       "    </tr>\n",
       "    <tr>\n",
       "      <th>114946</th>\n",
       "      <td>/organization/eron</td>\n",
       "      <td>venture</td>\n",
       "      <td>NaN</td>\n",
       "      <td>ERON</td>\n",
       "      <td>NaN</td>\n",
       "      <td>operating</td>\n",
       "      <td>NaN</td>\n",
       "    </tr>\n",
       "    <tr>\n",
       "      <th>114947</th>\n",
       "      <td>/organization/asys-2</td>\n",
       "      <td>seed</td>\n",
       "      <td>18192.0</td>\n",
       "      <td>asys</td>\n",
       "      <td>Consumer Electronics|Internet of Things|Teleco...</td>\n",
       "      <td>operating</td>\n",
       "      <td>USA</td>\n",
       "    </tr>\n",
       "    <tr>\n",
       "      <th>114948</th>\n",
       "      <td>/organization/novatiff-reklam-ve-tantm-hizmetl...</td>\n",
       "      <td>grant</td>\n",
       "      <td>14851.0</td>\n",
       "      <td>novatiff Reklam ve Tantm Hizmetleri Tic</td>\n",
       "      <td>Consumer Goods|E-Commerce|Internet</td>\n",
       "      <td>operating</td>\n",
       "      <td>NaN</td>\n",
       "    </tr>\n",
       "  </tbody>\n",
       "</table>\n",
       "<p>114949 rows × 7 columns</p>\n",
       "</div>"
      ],
      "text/plain": [
       "                                        company_permalink funding_round_type  \\\n",
       "0                                     /organization/-fame            venture   \n",
       "1                                  /organization/-qounter            venture   \n",
       "2                                  /organization/-qounter               seed   \n",
       "3                     /organization/-the-one-of-them-inc-            venture   \n",
       "4                                   /organization/0-6-com            venture   \n",
       "...                                                   ...                ...   \n",
       "114944                          /organization/zzzzapp-com   convertible_note   \n",
       "114945                          /organization/zzzzapp-com               seed   \n",
       "114946                                 /organization/eron            venture   \n",
       "114947                               /organization/asys-2               seed   \n",
       "114948  /organization/novatiff-reklam-ve-tantm-hizmetl...              grant   \n",
       "\n",
       "        raised_amount_usd                                     name  \\\n",
       "0              10000000.0                                    #fame   \n",
       "1                     NaN                                 :Qounter   \n",
       "2                700000.0                                 :Qounter   \n",
       "3               3406878.0                   (THE) ONE of THEM,Inc.   \n",
       "4               2000000.0                                  0-6.com   \n",
       "...                   ...                                      ...   \n",
       "114944            41313.0                    Zzzzapp Wireless ltd.   \n",
       "114945            32842.0                    Zzzzapp Wireless ltd.   \n",
       "114946                NaN                                     ERON   \n",
       "114947            18192.0                                     asys   \n",
       "114948            14851.0  novatiff Reklam ve Tantm Hizmetleri Tic   \n",
       "\n",
       "                                            category_list     status  \\\n",
       "0                                                   Media  operating   \n",
       "1       Application Platforms|Real Time|Social Network...  operating   \n",
       "2       Application Platforms|Real Time|Social Network...  operating   \n",
       "3                                       Apps|Games|Mobile  operating   \n",
       "4                                             Curated Web  operating   \n",
       "...                                                   ...        ...   \n",
       "114944        Advertising|Mobile|Web Development|Wireless  operating   \n",
       "114945        Advertising|Mobile|Web Development|Wireless  operating   \n",
       "114946                                                NaN  operating   \n",
       "114947  Consumer Electronics|Internet of Things|Teleco...  operating   \n",
       "114948                 Consumer Goods|E-Commerce|Internet  operating   \n",
       "\n",
       "       country_code  \n",
       "0               IND  \n",
       "1               USA  \n",
       "2               USA  \n",
       "3               NaN  \n",
       "4               CHN  \n",
       "...             ...  \n",
       "114944          HRV  \n",
       "114945          HRV  \n",
       "114946          NaN  \n",
       "114947          USA  \n",
       "114948          NaN  \n",
       "\n",
       "[114949 rows x 7 columns]"
      ]
     },
     "execution_count": 218,
     "metadata": {},
     "output_type": "execute_result"
    }
   ],
   "source": [
    "master_frame"
   ]
  },
  {
   "cell_type": "code",
   "execution_count": 219,
   "metadata": {
    "scrolled": false
   },
   "outputs": [
    {
     "data": {
      "text/plain": [
       "company_permalink         0\n",
       "funding_round_type        0\n",
       "raised_amount_usd     19990\n",
       "name                      0\n",
       "category_list          3410\n",
       "status                    0\n",
       "country_code           8678\n",
       "dtype: int64"
      ]
     },
     "execution_count": 219,
     "metadata": {},
     "output_type": "execute_result"
    }
   ],
   "source": [
    "master_frame.isnull().sum()"
   ]
  },
  {
   "cell_type": "code",
   "execution_count": 220,
   "metadata": {},
   "outputs": [],
   "source": [
    "#Removing rows with null value rows in all 3 columns [\"raised_amount_usd\",\"category_list\",\"country_code\"]\n",
    "master_frame = master_frame[master_frame[[\"raised_amount_usd\",\"category_list\",\"country_code\"]].isnull().sum(axis = 1) != 3]"
   ]
  },
  {
   "cell_type": "code",
   "execution_count": 221,
   "metadata": {},
   "outputs": [
    {
     "data": {
      "text/plain": [
       "company_permalink         0\n",
       "funding_round_type        0\n",
       "raised_amount_usd     18784\n",
       "name                      0\n",
       "category_list          2204\n",
       "status                    0\n",
       "country_code           7472\n",
       "dtype: int64"
      ]
     },
     "execution_count": 221,
     "metadata": {},
     "output_type": "execute_result"
    }
   ],
   "source": [
    "master_frame.isnull().sum()"
   ]
  },
  {
   "cell_type": "code",
   "execution_count": 222,
   "metadata": {},
   "outputs": [
    {
     "data": {
      "text/plain": [
       "(113743, 7)"
      ]
     },
     "execution_count": 222,
     "metadata": {},
     "output_type": "execute_result"
    }
   ],
   "source": [
    "master_frame.shape"
   ]
  },
  {
   "cell_type": "code",
   "execution_count": 223,
   "metadata": {},
   "outputs": [
    {
     "data": {
      "text/plain": [
       "company_permalink         0\n",
       "funding_round_type        0\n",
       "raised_amount_usd     18784\n",
       "name                      0\n",
       "category_list          2204\n",
       "status                    0\n",
       "country_code           7472\n",
       "dtype: int64"
      ]
     },
     "execution_count": 223,
     "metadata": {},
     "output_type": "execute_result"
    }
   ],
   "source": [
    "master_frame.isnull().sum()"
   ]
  },
  {
   "cell_type": "markdown",
   "metadata": {},
   "source": [
    "### Average funding amount of venture type"
   ]
  },
  {
   "cell_type": "code",
   "execution_count": 224,
   "metadata": {},
   "outputs": [
    {
     "data": {
      "text/plain": [
       "11748949.13"
      ]
     },
     "execution_count": 224,
     "metadata": {},
     "output_type": "execute_result"
    }
   ],
   "source": [
    "round((master_frame.groupby(['funding_round_type'])[\"raised_amount_usd\"].mean().venture),2) #11748949.13"
   ]
  },
  {
   "cell_type": "code",
   "execution_count": 225,
   "metadata": {},
   "outputs": [
    {
     "data": {
      "text/plain": [
       "5000000.0"
      ]
     },
     "execution_count": 225,
     "metadata": {},
     "output_type": "execute_result"
    }
   ],
   "source": [
    "round((master_frame.groupby(['funding_round_type'])[\"raised_amount_usd\"].median().venture),2) #5000000.0"
   ]
  },
  {
   "cell_type": "markdown",
   "metadata": {},
   "source": [
    "### Average funding amount of seed type"
   ]
  },
  {
   "cell_type": "code",
   "execution_count": 226,
   "metadata": {},
   "outputs": [
    {
     "data": {
      "text/plain": [
       "719818.0"
      ]
     },
     "execution_count": 226,
     "metadata": {},
     "output_type": "execute_result"
    }
   ],
   "source": [
    "round((master_frame.groupby(['funding_round_type'])[\"raised_amount_usd\"].mean().seed),2)  #719818.0"
   ]
  },
  {
   "cell_type": "markdown",
   "metadata": {},
   "source": [
    "### Average funding amount of angel type"
   ]
  },
  {
   "cell_type": "code",
   "execution_count": 227,
   "metadata": {},
   "outputs": [
    {
     "data": {
      "text/plain": [
       "958694.47"
      ]
     },
     "execution_count": 227,
     "metadata": {},
     "output_type": "execute_result"
    }
   ],
   "source": [
    "round((master_frame.groupby(['funding_round_type'])[\"raised_amount_usd\"].mean().angel),2) #958694.47"
   ]
  },
  {
   "cell_type": "markdown",
   "metadata": {},
   "source": [
    "### Average funding amount of private equity type"
   ]
  },
  {
   "cell_type": "code",
   "execution_count": 228,
   "metadata": {
    "scrolled": true
   },
   "outputs": [
    {
     "data": {
      "text/plain": [
       "73308593.03"
      ]
     },
     "execution_count": 228,
     "metadata": {},
     "output_type": "execute_result"
    }
   ],
   "source": [
    "round((master_frame.groupby(['funding_round_type'])[\"raised_amount_usd\"].mean().private_equity),2) #73308593.03"
   ]
  },
  {
   "cell_type": "markdown",
   "metadata": {},
   "source": [
    "### Considering that Spark Funds wants to invest between 5 to 15 million USD per  investment round, which investment type is the most suitable for them?"
   ]
  },
  {
   "cell_type": "markdown",
   "metadata": {},
   "source": [
    "\n",
    "\n",
    "### Filtering data with investment amout between 5000000,15000000\n"
   ]
  },
  {
   "cell_type": "code",
   "execution_count": 229,
   "metadata": {},
   "outputs": [],
   "source": [
    "master_frame = master_frame[master_frame[\"raised_amount_usd\"].between(5000000,15000000)]"
   ]
  },
  {
   "cell_type": "code",
   "execution_count": 230,
   "metadata": {},
   "outputs": [],
   "source": [
    "#Creating new dataframe for easy analysis\n",
    "\n",
    "Funding_type = round((master_frame.groupby(['funding_round_type'])[\"raised_amount_usd\"].median())).reset_index()"
   ]
  },
  {
   "cell_type": "code",
   "execution_count": 231,
   "metadata": {},
   "outputs": [],
   "source": [
    "Funding_type_frequency = round((master_frame.groupby(['funding_round_type'])[\"raised_amount_usd\"].count()/master_frame[\"raised_amount_usd\"].count())*100).reset_index()"
   ]
  },
  {
   "cell_type": "code",
   "execution_count": 232,
   "metadata": {},
   "outputs": [],
   "source": [
    "Funding_type = Funding_type.merge(Funding_type_frequency, how = 'inner', on = 'funding_round_type')"
   ]
  },
  {
   "cell_type": "code",
   "execution_count": 233,
   "metadata": {},
   "outputs": [],
   "source": [
    "Funding_type = Funding_type.rename(columns = {'raised_amount_usd_x' : 'Average investment amount','funding_round_type':'Funding Type', \"raised_amount_usd_y\":'Investments(%)' })"
   ]
  },
  {
   "cell_type": "code",
   "execution_count": 234,
   "metadata": {
    "scrolled": true
   },
   "outputs": [
    {
     "data": {
      "text/html": [
       "<div>\n",
       "<style scoped>\n",
       "    .dataframe tbody tr th:only-of-type {\n",
       "        vertical-align: middle;\n",
       "    }\n",
       "\n",
       "    .dataframe tbody tr th {\n",
       "        vertical-align: top;\n",
       "    }\n",
       "\n",
       "    .dataframe thead th {\n",
       "        text-align: right;\n",
       "    }\n",
       "</style>\n",
       "<table border=\"1\" class=\"dataframe\">\n",
       "  <thead>\n",
       "    <tr style=\"text-align: right;\">\n",
       "      <th></th>\n",
       "      <th>Funding Type</th>\n",
       "      <th>Average investment amount</th>\n",
       "      <th>Investments(%)</th>\n",
       "    </tr>\n",
       "  </thead>\n",
       "  <tbody>\n",
       "    <tr>\n",
       "      <th>0</th>\n",
       "      <td>angel</td>\n",
       "      <td>6500000.0</td>\n",
       "      <td>0.0</td>\n",
       "    </tr>\n",
       "    <tr>\n",
       "      <th>1</th>\n",
       "      <td>convertible_note</td>\n",
       "      <td>6925436.0</td>\n",
       "      <td>0.0</td>\n",
       "    </tr>\n",
       "    <tr>\n",
       "      <th>2</th>\n",
       "      <td>debt_financing</td>\n",
       "      <td>7500000.0</td>\n",
       "      <td>5.0</td>\n",
       "    </tr>\n",
       "    <tr>\n",
       "      <th>3</th>\n",
       "      <td>equity_crowdfunding</td>\n",
       "      <td>6000000.0</td>\n",
       "      <td>0.0</td>\n",
       "    </tr>\n",
       "    <tr>\n",
       "      <th>4</th>\n",
       "      <td>grant</td>\n",
       "      <td>8100000.0</td>\n",
       "      <td>1.0</td>\n",
       "    </tr>\n",
       "    <tr>\n",
       "      <th>5</th>\n",
       "      <td>non_equity_assistance</td>\n",
       "      <td>15000000.0</td>\n",
       "      <td>0.0</td>\n",
       "    </tr>\n",
       "    <tr>\n",
       "      <th>6</th>\n",
       "      <td>post_ipo_debt</td>\n",
       "      <td>9750000.0</td>\n",
       "      <td>0.0</td>\n",
       "    </tr>\n",
       "    <tr>\n",
       "      <th>7</th>\n",
       "      <td>post_ipo_equity</td>\n",
       "      <td>9276438.0</td>\n",
       "      <td>1.0</td>\n",
       "    </tr>\n",
       "    <tr>\n",
       "      <th>8</th>\n",
       "      <td>private_equity</td>\n",
       "      <td>9469746.0</td>\n",
       "      <td>2.0</td>\n",
       "    </tr>\n",
       "    <tr>\n",
       "      <th>9</th>\n",
       "      <td>product_crowdfunding</td>\n",
       "      <td>8782571.0</td>\n",
       "      <td>0.0</td>\n",
       "    </tr>\n",
       "    <tr>\n",
       "      <th>10</th>\n",
       "      <td>secondary_market</td>\n",
       "      <td>6955632.0</td>\n",
       "      <td>0.0</td>\n",
       "    </tr>\n",
       "    <tr>\n",
       "      <th>11</th>\n",
       "      <td>seed</td>\n",
       "      <td>6000000.0</td>\n",
       "      <td>1.0</td>\n",
       "    </tr>\n",
       "    <tr>\n",
       "      <th>12</th>\n",
       "      <td>undisclosed</td>\n",
       "      <td>8000000.0</td>\n",
       "      <td>1.0</td>\n",
       "    </tr>\n",
       "    <tr>\n",
       "      <th>13</th>\n",
       "      <td>venture</td>\n",
       "      <td>8269594.0</td>\n",
       "      <td>88.0</td>\n",
       "    </tr>\n",
       "  </tbody>\n",
       "</table>\n",
       "</div>"
      ],
      "text/plain": [
       "             Funding Type  Average investment amount  Investments(%)\n",
       "0                   angel                  6500000.0             0.0\n",
       "1        convertible_note                  6925436.0             0.0\n",
       "2          debt_financing                  7500000.0             5.0\n",
       "3     equity_crowdfunding                  6000000.0             0.0\n",
       "4                   grant                  8100000.0             1.0\n",
       "5   non_equity_assistance                 15000000.0             0.0\n",
       "6           post_ipo_debt                  9750000.0             0.0\n",
       "7         post_ipo_equity                  9276438.0             1.0\n",
       "8          private_equity                  9469746.0             2.0\n",
       "9    product_crowdfunding                  8782571.0             0.0\n",
       "10       secondary_market                  6955632.0             0.0\n",
       "11                   seed                  6000000.0             1.0\n",
       "12            undisclosed                  8000000.0             1.0\n",
       "13                venture                  8269594.0            88.0"
      ]
     },
     "execution_count": 234,
     "metadata": {},
     "output_type": "execute_result"
    }
   ],
   "source": [
    "Funding_type[Funding_type[\"Average investment amount\"].between(5000000,15000000)]"
   ]
  },
  {
   "cell_type": "code",
   "execution_count": 235,
   "metadata": {
    "scrolled": false
   },
   "outputs": [
    {
     "data": {
      "image/png": "[encoded data removed]",
      "text/plain": [
       "<Figure size 432x288 with 1 Axes>"
      ]
     },
     "metadata": {
      "needs_background": "light"
     },
     "output_type": "display_data"
    }
   ],
   "source": [
    "\n",
    "sns.barplot(data = Funding_type, y = 'Funding Type', x = 'Investments(%)')\n",
    "pt.show()"
   ]
  },
  {
   "cell_type": "code",
   "execution_count": 236,
   "metadata": {},
   "outputs": [
    {
     "data": {
      "image/png": "[encoded data removed]",
      "text/plain": [
       "<Figure size 432x288 with 1 Axes>"
      ]
     },
     "metadata": {},
     "output_type": "display_data"
    }
   ],
   "source": [
    "pt.pie(Funding_type['Investments(%)'], labels = Funding_type['Funding Type'])\n",
    "pt.show()\n",
    "#Not suitable"
   ]
  },
  {
   "cell_type": "markdown",
   "metadata": {},
   "source": [
    "### Filtering master frame with funding type = venture"
   ]
  },
  {
   "cell_type": "code",
   "execution_count": 237,
   "metadata": {},
   "outputs": [],
   "source": [
    "master_frame = master_frame[master_frame['funding_round_type'] == 'venture']"
   ]
  },
  {
   "cell_type": "code",
   "execution_count": 238,
   "metadata": {},
   "outputs": [
    {
     "data": {
      "text/plain": [
       "(16598, 7)"
      ]
     },
     "execution_count": 238,
     "metadata": {},
     "output_type": "execute_result"
    }
   ],
   "source": [
    "master_frame.shape"
   ]
  },
  {
   "cell_type": "code",
   "execution_count": 239,
   "metadata": {},
   "outputs": [
    {
     "data": {
      "text/html": [
       "<div>\n",
       "<style scoped>\n",
       "    .dataframe tbody tr th:only-of-type {\n",
       "        vertical-align: middle;\n",
       "    }\n",
       "\n",
       "    .dataframe tbody tr th {\n",
       "        vertical-align: top;\n",
       "    }\n",
       "\n",
       "    .dataframe thead th {\n",
       "        text-align: right;\n",
       "    }\n",
       "</style>\n",
       "<table border=\"1\" class=\"dataframe\">\n",
       "  <thead>\n",
       "    <tr style=\"text-align: right;\">\n",
       "      <th></th>\n",
       "      <th>company_permalink</th>\n",
       "      <th>funding_round_type</th>\n",
       "      <th>raised_amount_usd</th>\n",
       "      <th>name</th>\n",
       "      <th>category_list</th>\n",
       "      <th>status</th>\n",
       "      <th>country_code</th>\n",
       "    </tr>\n",
       "  </thead>\n",
       "  <tbody>\n",
       "    <tr>\n",
       "      <th>0</th>\n",
       "      <td>/organization/-fame</td>\n",
       "      <td>venture</td>\n",
       "      <td>10000000.0</td>\n",
       "      <td>#fame</td>\n",
       "      <td>Media</td>\n",
       "      <td>operating</td>\n",
       "      <td>IND</td>\n",
       "    </tr>\n",
       "    <tr>\n",
       "      <th>12</th>\n",
       "      <td>/organization/0xdata</td>\n",
       "      <td>venture</td>\n",
       "      <td>8900000.0</td>\n",
       "      <td>H2O.ai</td>\n",
       "      <td>Analytics</td>\n",
       "      <td>operating</td>\n",
       "      <td>USA</td>\n",
       "    </tr>\n",
       "    <tr>\n",
       "      <th>22</th>\n",
       "      <td>/organization/1-mainstream</td>\n",
       "      <td>venture</td>\n",
       "      <td>5000000.0</td>\n",
       "      <td>1 Mainstream</td>\n",
       "      <td>Apps|Cable|Distribution|Software</td>\n",
       "      <td>acquired</td>\n",
       "      <td>USA</td>\n",
       "    </tr>\n",
       "    <tr>\n",
       "      <th>46</th>\n",
       "      <td>/organization/1001-menus</td>\n",
       "      <td>venture</td>\n",
       "      <td>6602694.0</td>\n",
       "      <td>ZenChef</td>\n",
       "      <td>Local Businesses|Restaurants</td>\n",
       "      <td>operating</td>\n",
       "      <td>FRA</td>\n",
       "    </tr>\n",
       "    <tr>\n",
       "      <th>50</th>\n",
       "      <td>/organization/1001pharmacies-com</td>\n",
       "      <td>venture</td>\n",
       "      <td>8900000.0</td>\n",
       "      <td>1001pharmacies.com</td>\n",
       "      <td>Cosmetics|Marketplaces</td>\n",
       "      <td>operating</td>\n",
       "      <td>FRA</td>\n",
       "    </tr>\n",
       "    <tr>\n",
       "      <th>...</th>\n",
       "      <td>...</td>\n",
       "      <td>...</td>\n",
       "      <td>...</td>\n",
       "      <td>...</td>\n",
       "      <td>...</td>\n",
       "      <td>...</td>\n",
       "      <td>...</td>\n",
       "    </tr>\n",
       "    <tr>\n",
       "      <th>114916</th>\n",
       "      <td>/organization/zynstra</td>\n",
       "      <td>venture</td>\n",
       "      <td>8400000.0</td>\n",
       "      <td>Zynstra</td>\n",
       "      <td>Software</td>\n",
       "      <td>operating</td>\n",
       "      <td>GBR</td>\n",
       "    </tr>\n",
       "    <tr>\n",
       "      <th>114920</th>\n",
       "      <td>/organization/zyomyx-inc</td>\n",
       "      <td>venture</td>\n",
       "      <td>12000000.0</td>\n",
       "      <td>ZYOMYX</td>\n",
       "      <td>Biotechnology</td>\n",
       "      <td>operating</td>\n",
       "      <td>USA</td>\n",
       "    </tr>\n",
       "    <tr>\n",
       "      <th>114922</th>\n",
       "      <td>/organization/zyomyx-inc</td>\n",
       "      <td>venture</td>\n",
       "      <td>14219999.0</td>\n",
       "      <td>ZYOMYX</td>\n",
       "      <td>Biotechnology</td>\n",
       "      <td>operating</td>\n",
       "      <td>USA</td>\n",
       "    </tr>\n",
       "    <tr>\n",
       "      <th>114931</th>\n",
       "      <td>/organization/zyraz-technology</td>\n",
       "      <td>venture</td>\n",
       "      <td>7991547.0</td>\n",
       "      <td>Zyraz Technology</td>\n",
       "      <td>Biotechnology</td>\n",
       "      <td>closed</td>\n",
       "      <td>MYS</td>\n",
       "    </tr>\n",
       "    <tr>\n",
       "      <th>114936</th>\n",
       "      <td>/organization/zystor</td>\n",
       "      <td>venture</td>\n",
       "      <td>8500000.0</td>\n",
       "      <td>Zystor</td>\n",
       "      <td>Biotechnology</td>\n",
       "      <td>acquired</td>\n",
       "      <td>USA</td>\n",
       "    </tr>\n",
       "  </tbody>\n",
       "</table>\n",
       "<p>16598 rows × 7 columns</p>\n",
       "</div>"
      ],
      "text/plain": [
       "                       company_permalink funding_round_type  \\\n",
       "0                    /organization/-fame            venture   \n",
       "12                  /organization/0xdata            venture   \n",
       "22            /organization/1-mainstream            venture   \n",
       "46              /organization/1001-menus            venture   \n",
       "50      /organization/1001pharmacies-com            venture   \n",
       "...                                  ...                ...   \n",
       "114916             /organization/zynstra            venture   \n",
       "114920          /organization/zyomyx-inc            venture   \n",
       "114922          /organization/zyomyx-inc            venture   \n",
       "114931    /organization/zyraz-technology            venture   \n",
       "114936              /organization/zystor            venture   \n",
       "\n",
       "        raised_amount_usd                name  \\\n",
       "0              10000000.0               #fame   \n",
       "12              8900000.0              H2O.ai   \n",
       "22              5000000.0        1 Mainstream   \n",
       "46              6602694.0             ZenChef   \n",
       "50              8900000.0  1001pharmacies.com   \n",
       "...                   ...                 ...   \n",
       "114916          8400000.0             Zynstra   \n",
       "114920         12000000.0              ZYOMYX   \n",
       "114922         14219999.0              ZYOMYX   \n",
       "114931          7991547.0    Zyraz Technology   \n",
       "114936          8500000.0              Zystor   \n",
       "\n",
       "                           category_list     status country_code  \n",
       "0                                  Media  operating          IND  \n",
       "12                             Analytics  operating          USA  \n",
       "22      Apps|Cable|Distribution|Software   acquired          USA  \n",
       "46          Local Businesses|Restaurants  operating          FRA  \n",
       "50                Cosmetics|Marketplaces  operating          FRA  \n",
       "...                                  ...        ...          ...  \n",
       "114916                          Software  operating          GBR  \n",
       "114920                     Biotechnology  operating          USA  \n",
       "114922                     Biotechnology  operating          USA  \n",
       "114931                     Biotechnology     closed          MYS  \n",
       "114936                     Biotechnology   acquired          USA  \n",
       "\n",
       "[16598 rows x 7 columns]"
      ]
     },
     "execution_count": 239,
     "metadata": {},
     "output_type": "execute_result"
    }
   ],
   "source": [
    "master_frame[master_frame[\"raised_amount_usd\"].between(5000000,15000000)]"
   ]
  },
  {
   "cell_type": "markdown",
   "metadata": {},
   "source": [
    "# Checkpoint3"
   ]
  },
  {
   "cell_type": "code",
   "execution_count": 240,
   "metadata": {},
   "outputs": [
    {
     "data": {
      "text/plain": [
       "703"
      ]
     },
     "execution_count": 240,
     "metadata": {},
     "output_type": "execute_result"
    }
   ],
   "source": [
    "master_frame.country_code.isnull().sum()"
   ]
  },
  {
   "cell_type": "code",
   "execution_count": 241,
   "metadata": {},
   "outputs": [
    {
     "data": {
      "text/plain": [
       "USA    12150\n",
       "GBR      628\n",
       "CHN      533\n",
       "CAN      426\n",
       "IND      330\n",
       "       ...  \n",
       "URY        1\n",
       "BMU        1\n",
       "KAZ        1\n",
       "BAH        1\n",
       "LTU        1\n",
       "Name: country_code, Length: 74, dtype: int64"
      ]
     },
     "execution_count": 241,
     "metadata": {},
     "output_type": "execute_result"
    }
   ],
   "source": [
    "master_frame.country_code.value_counts()"
   ]
  },
  {
   "cell_type": "markdown",
   "metadata": {},
   "source": [
    "### For the chosen investment type, make a data frame named top9 with the top nine countries (based on the total investment amount each country has received)"
   ]
  },
  {
   "cell_type": "code",
   "execution_count": 242,
   "metadata": {},
   "outputs": [],
   "source": [
    "top9 = round((master_frame.groupby(['country_code'])[\"raised_amount_usd\"].sum())).sort_values(ascending = False)[:9].reset_index()"
   ]
  },
  {
   "cell_type": "markdown",
   "metadata": {},
   "source": [
    "### Loading english speaking countries from wikipeidia "
   ]
  },
  {
   "cell_type": "code",
   "execution_count": 243,
   "metadata": {},
   "outputs": [],
   "source": [
    "countries = np.array([ 'AUS', 'NZL', 'GBR', 'USA', 'ATG', 'BHS', 'BRB', 'BLZ', 'BWA', 'BDI', 'CMR', 'CAN', 'COK', 'DMA','SWZ', 'FJI', 'GMB', 'GHA', 'GRD', 'GUY', 'IND', 'IRL', 'JAM', 'KEN', 'KIR', 'LSO', 'LBR', 'MWI', 'MLT', 'MHL', 'MUS', 'FSM', 'NAM', 'NRU', 'NGA', 'NIU', 'PAK', 'PLW', 'PNG', 'PHL', 'RWA', 'KNA', 'LCA', 'VCT', 'WSM', 'SYC', 'SLE', 'SGP', 'SLB', 'ZAF', 'SSD', 'SDN', 'TZA', 'TON', 'TTO', 'TUV', 'UGA', 'VUT', 'ZMB', 'ZWE'])\n",
    "eng_countries = pd.DataFrame(countries, columns = ['countries'] )\n",
    "eng_countries['English Speaking?'] = 'Yes'"
   ]
  },
  {
   "cell_type": "code",
   "execution_count": 244,
   "metadata": {},
   "outputs": [
    {
     "data": {
      "text/html": [
       "<div>\n",
       "<style scoped>\n",
       "    .dataframe tbody tr th:only-of-type {\n",
       "        vertical-align: middle;\n",
       "    }\n",
       "\n",
       "    .dataframe tbody tr th {\n",
       "        vertical-align: top;\n",
       "    }\n",
       "\n",
       "    .dataframe thead th {\n",
       "        text-align: right;\n",
       "    }\n",
       "</style>\n",
       "<table border=\"1\" class=\"dataframe\">\n",
       "  <thead>\n",
       "    <tr style=\"text-align: right;\">\n",
       "      <th></th>\n",
       "      <th>countries</th>\n",
       "      <th>English Speaking?</th>\n",
       "    </tr>\n",
       "  </thead>\n",
       "  <tbody>\n",
       "    <tr>\n",
       "      <th>0</th>\n",
       "      <td>AUS</td>\n",
       "      <td>Yes</td>\n",
       "    </tr>\n",
       "    <tr>\n",
       "      <th>1</th>\n",
       "      <td>NZL</td>\n",
       "      <td>Yes</td>\n",
       "    </tr>\n",
       "    <tr>\n",
       "      <th>2</th>\n",
       "      <td>GBR</td>\n",
       "      <td>Yes</td>\n",
       "    </tr>\n",
       "    <tr>\n",
       "      <th>3</th>\n",
       "      <td>USA</td>\n",
       "      <td>Yes</td>\n",
       "    </tr>\n",
       "    <tr>\n",
       "      <th>4</th>\n",
       "      <td>ATG</td>\n",
       "      <td>Yes</td>\n",
       "    </tr>\n",
       "  </tbody>\n",
       "</table>\n",
       "</div>"
      ],
      "text/plain": [
       "  countries English Speaking?\n",
       "0       AUS               Yes\n",
       "1       NZL               Yes\n",
       "2       GBR               Yes\n",
       "3       USA               Yes\n",
       "4       ATG               Yes"
      ]
     },
     "execution_count": 244,
     "metadata": {},
     "output_type": "execute_result"
    }
   ],
   "source": [
    "eng_countries.head()"
   ]
  },
  {
   "cell_type": "code",
   "execution_count": 245,
   "metadata": {},
   "outputs": [],
   "source": [
    "top9 = top9.merge(eng_countries, how = 'left', left_on = \"country_code\", right_on = \"countries\")"
   ]
  },
  {
   "cell_type": "code",
   "execution_count": 246,
   "metadata": {},
   "outputs": [],
   "source": [
    "top9['English Speaking?'].fillna('No',inplace = True)"
   ]
  },
  {
   "cell_type": "code",
   "execution_count": 247,
   "metadata": {},
   "outputs": [],
   "source": [
    "top9 = top9.rename(columns = {'country_code' : 'Country Code', 'raised_amount_usd' : 'Total amount invested'})"
   ]
  },
  {
   "cell_type": "code",
   "execution_count": 248,
   "metadata": {},
   "outputs": [
    {
     "data": {
      "text/plain": [
       "<matplotlib.axes._subplots.AxesSubplot at 0x16e501bd0c8>"
      ]
     },
     "execution_count": 248,
     "metadata": {},
     "output_type": "execute_result"
    },
    {
     "data": {
      "image/png": "[encoded data removed]",
      "text/plain": [
       "<Figure size 432x288 with 1 Axes>"
      ]
     },
     "metadata": {
      "needs_background": "light"
     },
     "output_type": "display_data"
    }
   ],
   "source": [
    "sns.barplot(data =top9 , x = 'Country Code', y = \"Total amount invested\", hue = 'English Speaking?', dodge=False, color=\"salmon\", hue_order = ['No','Yes'] )"
   ]
  },
  {
   "cell_type": "code",
   "execution_count": 249,
   "metadata": {},
   "outputs": [],
   "source": [
    "top3 = top9[top9['English Speaking?'] == 'Yes'].sort_values(by = 'Total amount invested', ascending = False)[0:3]['Country Code']"
   ]
  },
  {
   "cell_type": "code",
   "execution_count": 250,
   "metadata": {},
   "outputs": [
    {
     "data": {
      "text/plain": [
       "0    USA\n",
       "1    GBR\n",
       "3    CAN\n",
       "Name: Country Code, dtype: object"
      ]
     },
     "execution_count": 250,
     "metadata": {},
     "output_type": "execute_result"
    }
   ],
   "source": [
    "top3"
   ]
  },
  {
   "cell_type": "markdown",
   "metadata": {},
   "source": [
    "### Filtering values in master_frame with top 3 english speaking counties"
   ]
  },
  {
   "cell_type": "code",
   "execution_count": 251,
   "metadata": {},
   "outputs": [],
   "source": [
    "master_frame = master_frame[(master_frame.country_code.isin(top3))]"
   ]
  },
  {
   "cell_type": "markdown",
   "metadata": {},
   "source": [
    "# Checkpoint 4: Sector Analysis 1"
   ]
  },
  {
   "cell_type": "code",
   "execution_count": 252,
   "metadata": {},
   "outputs": [],
   "source": [
    "Sector = pd.read_csv(\"mapping.csv\")"
   ]
  },
  {
   "cell_type": "code",
   "execution_count": 253,
   "metadata": {},
   "outputs": [],
   "source": [
    "#Function to assign primary secotrs to their respective main secors\n",
    "main_sector_list = pd.Series(Sector.columns.values[1:])\n",
    "def get_sectors(primary_sector_list):\n",
    "    return main_sector_list[primary_sector_list.to_list()].to_list()[0]\n"
   ]
  },
  {
   "cell_type": "code",
   "execution_count": 254,
   "metadata": {},
   "outputs": [],
   "source": [
    "#assigning main sector to Sector data frame\n",
    "Sector[\"main_sector\"] = Sector.iloc[:,1:].astype(\"boolean\").apply(get_sectors, axis = 1)"
   ]
  },
  {
   "cell_type": "markdown",
   "metadata": {},
   "source": [
    "### Data cleaning"
   ]
  },
  {
   "cell_type": "code",
   "execution_count": 255,
   "metadata": {},
   "outputs": [],
   "source": [
    "Sector = Sector[Sector.category_list.notnull()]"
   ]
  },
  {
   "cell_type": "code",
   "execution_count": 256,
   "metadata": {
    "scrolled": true
   },
   "outputs": [
    {
     "data": {
      "text/html": [
       "<div>\n",
       "<style scoped>\n",
       "    .dataframe tbody tr th:only-of-type {\n",
       "        vertical-align: middle;\n",
       "    }\n",
       "\n",
       "    .dataframe tbody tr th {\n",
       "        vertical-align: top;\n",
       "    }\n",
       "\n",
       "    .dataframe thead th {\n",
       "        text-align: right;\n",
       "    }\n",
       "</style>\n",
       "<table border=\"1\" class=\"dataframe\">\n",
       "  <thead>\n",
       "    <tr style=\"text-align: right;\">\n",
       "      <th></th>\n",
       "      <th>category_list</th>\n",
       "      <th>Automotive &amp; Sports</th>\n",
       "      <th>Blanks</th>\n",
       "      <th>Cleantech / Semiconductors</th>\n",
       "      <th>Entertainment</th>\n",
       "      <th>Health</th>\n",
       "      <th>Manufacturing</th>\n",
       "      <th>News, Search and Messaging</th>\n",
       "      <th>Others</th>\n",
       "      <th>Social, Finance, Analytics, Advertising</th>\n",
       "      <th>main_sector</th>\n",
       "    </tr>\n",
       "  </thead>\n",
       "  <tbody>\n",
       "    <tr>\n",
       "      <th>20</th>\n",
       "      <td>Alter0tive Medicine</td>\n",
       "      <td>0</td>\n",
       "      <td>0</td>\n",
       "      <td>0</td>\n",
       "      <td>0</td>\n",
       "      <td>1</td>\n",
       "      <td>0</td>\n",
       "      <td>0</td>\n",
       "      <td>0</td>\n",
       "      <td>0</td>\n",
       "      <td>Health</td>\n",
       "    </tr>\n",
       "    <tr>\n",
       "      <th>22</th>\n",
       "      <td>A0lytics</td>\n",
       "      <td>0</td>\n",
       "      <td>0</td>\n",
       "      <td>0</td>\n",
       "      <td>0</td>\n",
       "      <td>0</td>\n",
       "      <td>0</td>\n",
       "      <td>0</td>\n",
       "      <td>0</td>\n",
       "      <td>1</td>\n",
       "      <td>Social, Finance, Analytics, Advertising</td>\n",
       "    </tr>\n",
       "    <tr>\n",
       "      <th>59</th>\n",
       "      <td>Big Data A0lytics</td>\n",
       "      <td>0</td>\n",
       "      <td>0</td>\n",
       "      <td>0</td>\n",
       "      <td>0</td>\n",
       "      <td>0</td>\n",
       "      <td>0</td>\n",
       "      <td>0</td>\n",
       "      <td>0</td>\n",
       "      <td>1</td>\n",
       "      <td>Social, Finance, Analytics, Advertising</td>\n",
       "    </tr>\n",
       "    <tr>\n",
       "      <th>79</th>\n",
       "      <td>Business A0lytics</td>\n",
       "      <td>0</td>\n",
       "      <td>0</td>\n",
       "      <td>0</td>\n",
       "      <td>0</td>\n",
       "      <td>0</td>\n",
       "      <td>0</td>\n",
       "      <td>0</td>\n",
       "      <td>0</td>\n",
       "      <td>1</td>\n",
       "      <td>Social, Finance, Analytics, Advertising</td>\n",
       "    </tr>\n",
       "    <tr>\n",
       "      <th>89</th>\n",
       "      <td>Can0bis</td>\n",
       "      <td>0</td>\n",
       "      <td>0</td>\n",
       "      <td>0</td>\n",
       "      <td>0</td>\n",
       "      <td>1</td>\n",
       "      <td>0</td>\n",
       "      <td>0</td>\n",
       "      <td>0</td>\n",
       "      <td>0</td>\n",
       "      <td>Health</td>\n",
       "    </tr>\n",
       "    <tr>\n",
       "      <th>91</th>\n",
       "      <td>Career Ma0gement</td>\n",
       "      <td>0</td>\n",
       "      <td>0</td>\n",
       "      <td>0</td>\n",
       "      <td>0</td>\n",
       "      <td>0</td>\n",
       "      <td>0</td>\n",
       "      <td>0</td>\n",
       "      <td>0</td>\n",
       "      <td>1</td>\n",
       "      <td>Social, Finance, Analytics, Advertising</td>\n",
       "    </tr>\n",
       "    <tr>\n",
       "      <th>103</th>\n",
       "      <td>Chi0 Internet</td>\n",
       "      <td>0</td>\n",
       "      <td>0</td>\n",
       "      <td>0</td>\n",
       "      <td>0</td>\n",
       "      <td>0</td>\n",
       "      <td>0</td>\n",
       "      <td>1</td>\n",
       "      <td>0</td>\n",
       "      <td>0</td>\n",
       "      <td>News, Search and Messaging</td>\n",
       "    </tr>\n",
       "    <tr>\n",
       "      <th>114</th>\n",
       "      <td>Cloud Ma0gement</td>\n",
       "      <td>0</td>\n",
       "      <td>0</td>\n",
       "      <td>0</td>\n",
       "      <td>0</td>\n",
       "      <td>0</td>\n",
       "      <td>0</td>\n",
       "      <td>1</td>\n",
       "      <td>0</td>\n",
       "      <td>0</td>\n",
       "      <td>News, Search and Messaging</td>\n",
       "    </tr>\n",
       "    <tr>\n",
       "      <th>145</th>\n",
       "      <td>Contact Ma0gement</td>\n",
       "      <td>0</td>\n",
       "      <td>0</td>\n",
       "      <td>0</td>\n",
       "      <td>0</td>\n",
       "      <td>0</td>\n",
       "      <td>0</td>\n",
       "      <td>0</td>\n",
       "      <td>0</td>\n",
       "      <td>1</td>\n",
       "      <td>Social, Finance, Analytics, Advertising</td>\n",
       "    </tr>\n",
       "    <tr>\n",
       "      <th>198</th>\n",
       "      <td>Digital Rights Ma0gement</td>\n",
       "      <td>0</td>\n",
       "      <td>0</td>\n",
       "      <td>0</td>\n",
       "      <td>1</td>\n",
       "      <td>0</td>\n",
       "      <td>0</td>\n",
       "      <td>0</td>\n",
       "      <td>0</td>\n",
       "      <td>0</td>\n",
       "      <td>Entertainment</td>\n",
       "    </tr>\n",
       "    <tr>\n",
       "      <th>199</th>\n",
       "      <td>Digital Sig0ge</td>\n",
       "      <td>0</td>\n",
       "      <td>0</td>\n",
       "      <td>0</td>\n",
       "      <td>1</td>\n",
       "      <td>0</td>\n",
       "      <td>0</td>\n",
       "      <td>0</td>\n",
       "      <td>0</td>\n",
       "      <td>0</td>\n",
       "      <td>Entertainment</td>\n",
       "    </tr>\n",
       "    <tr>\n",
       "      <th>210</th>\n",
       "      <td>Document Ma0gement</td>\n",
       "      <td>0</td>\n",
       "      <td>0</td>\n",
       "      <td>0</td>\n",
       "      <td>0</td>\n",
       "      <td>0</td>\n",
       "      <td>0</td>\n",
       "      <td>0</td>\n",
       "      <td>1</td>\n",
       "      <td>0</td>\n",
       "      <td>Others</td>\n",
       "    </tr>\n",
       "    <tr>\n",
       "      <th>223</th>\n",
       "      <td>Educatio0l Games</td>\n",
       "      <td>0</td>\n",
       "      <td>0</td>\n",
       "      <td>0</td>\n",
       "      <td>1</td>\n",
       "      <td>0</td>\n",
       "      <td>0</td>\n",
       "      <td>0</td>\n",
       "      <td>0</td>\n",
       "      <td>0</td>\n",
       "      <td>Entertainment</td>\n",
       "    </tr>\n",
       "    <tr>\n",
       "      <th>240</th>\n",
       "      <td>Energy Ma0gement</td>\n",
       "      <td>0</td>\n",
       "      <td>0</td>\n",
       "      <td>1</td>\n",
       "      <td>0</td>\n",
       "      <td>0</td>\n",
       "      <td>0</td>\n",
       "      <td>0</td>\n",
       "      <td>0</td>\n",
       "      <td>0</td>\n",
       "      <td>Cleantech / Semiconductors</td>\n",
       "    </tr>\n",
       "    <tr>\n",
       "      <th>243</th>\n",
       "      <td>Enterprise 2.0</td>\n",
       "      <td>0</td>\n",
       "      <td>0</td>\n",
       "      <td>0</td>\n",
       "      <td>0</td>\n",
       "      <td>0</td>\n",
       "      <td>0</td>\n",
       "      <td>0</td>\n",
       "      <td>1</td>\n",
       "      <td>0</td>\n",
       "      <td>Others</td>\n",
       "    </tr>\n",
       "    <tr>\n",
       "      <th>256</th>\n",
       "      <td>Event Ma0gement</td>\n",
       "      <td>0</td>\n",
       "      <td>0</td>\n",
       "      <td>0</td>\n",
       "      <td>1</td>\n",
       "      <td>0</td>\n",
       "      <td>0</td>\n",
       "      <td>0</td>\n",
       "      <td>0</td>\n",
       "      <td>0</td>\n",
       "      <td>Entertainment</td>\n",
       "    </tr>\n",
       "    <tr>\n",
       "      <th>273</th>\n",
       "      <td>Fi0nce</td>\n",
       "      <td>0</td>\n",
       "      <td>0</td>\n",
       "      <td>0</td>\n",
       "      <td>0</td>\n",
       "      <td>0</td>\n",
       "      <td>0</td>\n",
       "      <td>0</td>\n",
       "      <td>0</td>\n",
       "      <td>1</td>\n",
       "      <td>Social, Finance, Analytics, Advertising</td>\n",
       "    </tr>\n",
       "    <tr>\n",
       "      <th>274</th>\n",
       "      <td>Fi0nce Technology</td>\n",
       "      <td>0</td>\n",
       "      <td>0</td>\n",
       "      <td>0</td>\n",
       "      <td>0</td>\n",
       "      <td>0</td>\n",
       "      <td>0</td>\n",
       "      <td>0</td>\n",
       "      <td>0</td>\n",
       "      <td>1</td>\n",
       "      <td>Social, Finance, Analytics, Advertising</td>\n",
       "    </tr>\n",
       "    <tr>\n",
       "      <th>275</th>\n",
       "      <td>Fi0ncial Exchanges</td>\n",
       "      <td>0</td>\n",
       "      <td>0</td>\n",
       "      <td>0</td>\n",
       "      <td>0</td>\n",
       "      <td>0</td>\n",
       "      <td>0</td>\n",
       "      <td>0</td>\n",
       "      <td>0</td>\n",
       "      <td>1</td>\n",
       "      <td>Social, Finance, Analytics, Advertising</td>\n",
       "    </tr>\n",
       "    <tr>\n",
       "      <th>276</th>\n",
       "      <td>Fi0ncial Services</td>\n",
       "      <td>0</td>\n",
       "      <td>0</td>\n",
       "      <td>0</td>\n",
       "      <td>0</td>\n",
       "      <td>0</td>\n",
       "      <td>0</td>\n",
       "      <td>0</td>\n",
       "      <td>0</td>\n",
       "      <td>1</td>\n",
       "      <td>Social, Finance, Analytics, Advertising</td>\n",
       "    </tr>\n",
       "    <tr>\n",
       "      <th>281</th>\n",
       "      <td>Fleet Ma0gement</td>\n",
       "      <td>0</td>\n",
       "      <td>0</td>\n",
       "      <td>0</td>\n",
       "      <td>0</td>\n",
       "      <td>0</td>\n",
       "      <td>0</td>\n",
       "      <td>0</td>\n",
       "      <td>1</td>\n",
       "      <td>0</td>\n",
       "      <td>Others</td>\n",
       "    </tr>\n",
       "    <tr>\n",
       "      <th>310</th>\n",
       "      <td>Gover0nce</td>\n",
       "      <td>0</td>\n",
       "      <td>0</td>\n",
       "      <td>0</td>\n",
       "      <td>0</td>\n",
       "      <td>0</td>\n",
       "      <td>0</td>\n",
       "      <td>0</td>\n",
       "      <td>1</td>\n",
       "      <td>0</td>\n",
       "      <td>Others</td>\n",
       "    </tr>\n",
       "    <tr>\n",
       "      <th>353</th>\n",
       "      <td>Identity Ma0gement</td>\n",
       "      <td>0</td>\n",
       "      <td>0</td>\n",
       "      <td>0</td>\n",
       "      <td>0</td>\n",
       "      <td>0</td>\n",
       "      <td>0</td>\n",
       "      <td>0</td>\n",
       "      <td>0</td>\n",
       "      <td>1</td>\n",
       "      <td>Social, Finance, Analytics, Advertising</td>\n",
       "    </tr>\n",
       "    <tr>\n",
       "      <th>370</th>\n",
       "      <td>Innovation Ma0gement</td>\n",
       "      <td>0</td>\n",
       "      <td>0</td>\n",
       "      <td>0</td>\n",
       "      <td>0</td>\n",
       "      <td>0</td>\n",
       "      <td>0</td>\n",
       "      <td>0</td>\n",
       "      <td>0</td>\n",
       "      <td>1</td>\n",
       "      <td>Social, Finance, Analytics, Advertising</td>\n",
       "    </tr>\n",
       "    <tr>\n",
       "      <th>372</th>\n",
       "      <td>Intellectual Asset Ma0gement</td>\n",
       "      <td>0</td>\n",
       "      <td>0</td>\n",
       "      <td>0</td>\n",
       "      <td>0</td>\n",
       "      <td>0</td>\n",
       "      <td>0</td>\n",
       "      <td>0</td>\n",
       "      <td>1</td>\n",
       "      <td>0</td>\n",
       "      <td>Others</td>\n",
       "    </tr>\n",
       "    <tr>\n",
       "      <th>384</th>\n",
       "      <td>Investment Ma0gement</td>\n",
       "      <td>0</td>\n",
       "      <td>0</td>\n",
       "      <td>0</td>\n",
       "      <td>0</td>\n",
       "      <td>0</td>\n",
       "      <td>0</td>\n",
       "      <td>0</td>\n",
       "      <td>0</td>\n",
       "      <td>1</td>\n",
       "      <td>Social, Finance, Analytics, Advertising</td>\n",
       "    </tr>\n",
       "    <tr>\n",
       "      <th>389</th>\n",
       "      <td>IT Ma0gement</td>\n",
       "      <td>0</td>\n",
       "      <td>0</td>\n",
       "      <td>0</td>\n",
       "      <td>0</td>\n",
       "      <td>0</td>\n",
       "      <td>0</td>\n",
       "      <td>0</td>\n",
       "      <td>1</td>\n",
       "      <td>0</td>\n",
       "      <td>Others</td>\n",
       "    </tr>\n",
       "    <tr>\n",
       "      <th>391</th>\n",
       "      <td>Jour0lism</td>\n",
       "      <td>0</td>\n",
       "      <td>0</td>\n",
       "      <td>0</td>\n",
       "      <td>0</td>\n",
       "      <td>0</td>\n",
       "      <td>0</td>\n",
       "      <td>1</td>\n",
       "      <td>0</td>\n",
       "      <td>0</td>\n",
       "      <td>News, Search and Messaging</td>\n",
       "    </tr>\n",
       "    <tr>\n",
       "      <th>394</th>\n",
       "      <td>Knowledge Ma0gement</td>\n",
       "      <td>0</td>\n",
       "      <td>0</td>\n",
       "      <td>0</td>\n",
       "      <td>0</td>\n",
       "      <td>0</td>\n",
       "      <td>0</td>\n",
       "      <td>0</td>\n",
       "      <td>1</td>\n",
       "      <td>0</td>\n",
       "      <td>Others</td>\n",
       "    </tr>\n",
       "    <tr>\n",
       "      <th>400</th>\n",
       "      <td>Lead Ma0gement</td>\n",
       "      <td>0</td>\n",
       "      <td>0</td>\n",
       "      <td>0</td>\n",
       "      <td>0</td>\n",
       "      <td>0</td>\n",
       "      <td>0</td>\n",
       "      <td>0</td>\n",
       "      <td>1</td>\n",
       "      <td>0</td>\n",
       "      <td>Others</td>\n",
       "    </tr>\n",
       "    <tr>\n",
       "      <th>437</th>\n",
       "      <td>Medical Professio0ls</td>\n",
       "      <td>0</td>\n",
       "      <td>0</td>\n",
       "      <td>0</td>\n",
       "      <td>0</td>\n",
       "      <td>1</td>\n",
       "      <td>0</td>\n",
       "      <td>0</td>\n",
       "      <td>0</td>\n",
       "      <td>0</td>\n",
       "      <td>Health</td>\n",
       "    </tr>\n",
       "    <tr>\n",
       "      <th>448</th>\n",
       "      <td>Mobile A0lytics</td>\n",
       "      <td>0</td>\n",
       "      <td>0</td>\n",
       "      <td>0</td>\n",
       "      <td>0</td>\n",
       "      <td>0</td>\n",
       "      <td>0</td>\n",
       "      <td>0</td>\n",
       "      <td>0</td>\n",
       "      <td>1</td>\n",
       "      <td>Social, Finance, Analytics, Advertising</td>\n",
       "    </tr>\n",
       "    <tr>\n",
       "      <th>471</th>\n",
       "      <td>0notechnology</td>\n",
       "      <td>0</td>\n",
       "      <td>0</td>\n",
       "      <td>1</td>\n",
       "      <td>0</td>\n",
       "      <td>0</td>\n",
       "      <td>0</td>\n",
       "      <td>0</td>\n",
       "      <td>0</td>\n",
       "      <td>0</td>\n",
       "      <td>Cleantech / Semiconductors</td>\n",
       "    </tr>\n",
       "    <tr>\n",
       "      <th>472</th>\n",
       "      <td>0tural Language Processing</td>\n",
       "      <td>0</td>\n",
       "      <td>0</td>\n",
       "      <td>1</td>\n",
       "      <td>0</td>\n",
       "      <td>0</td>\n",
       "      <td>0</td>\n",
       "      <td>0</td>\n",
       "      <td>0</td>\n",
       "      <td>0</td>\n",
       "      <td>Cleantech / Semiconductors</td>\n",
       "    </tr>\n",
       "    <tr>\n",
       "      <th>473</th>\n",
       "      <td>0tural Resources</td>\n",
       "      <td>0</td>\n",
       "      <td>0</td>\n",
       "      <td>1</td>\n",
       "      <td>0</td>\n",
       "      <td>0</td>\n",
       "      <td>0</td>\n",
       "      <td>0</td>\n",
       "      <td>0</td>\n",
       "      <td>0</td>\n",
       "      <td>Cleantech / Semiconductors</td>\n",
       "    </tr>\n",
       "    <tr>\n",
       "      <th>474</th>\n",
       "      <td>0vigation</td>\n",
       "      <td>0</td>\n",
       "      <td>0</td>\n",
       "      <td>0</td>\n",
       "      <td>0</td>\n",
       "      <td>0</td>\n",
       "      <td>0</td>\n",
       "      <td>1</td>\n",
       "      <td>0</td>\n",
       "      <td>0</td>\n",
       "      <td>News, Search and Messaging</td>\n",
       "    </tr>\n",
       "    <tr>\n",
       "      <th>514</th>\n",
       "      <td>Perso0l Branding</td>\n",
       "      <td>0</td>\n",
       "      <td>0</td>\n",
       "      <td>0</td>\n",
       "      <td>0</td>\n",
       "      <td>0</td>\n",
       "      <td>0</td>\n",
       "      <td>0</td>\n",
       "      <td>0</td>\n",
       "      <td>1</td>\n",
       "      <td>Social, Finance, Analytics, Advertising</td>\n",
       "    </tr>\n",
       "    <tr>\n",
       "      <th>515</th>\n",
       "      <td>Perso0l Data</td>\n",
       "      <td>0</td>\n",
       "      <td>0</td>\n",
       "      <td>0</td>\n",
       "      <td>0</td>\n",
       "      <td>0</td>\n",
       "      <td>0</td>\n",
       "      <td>0</td>\n",
       "      <td>1</td>\n",
       "      <td>0</td>\n",
       "      <td>Others</td>\n",
       "    </tr>\n",
       "    <tr>\n",
       "      <th>516</th>\n",
       "      <td>Perso0l Fi0nce</td>\n",
       "      <td>0</td>\n",
       "      <td>0</td>\n",
       "      <td>0</td>\n",
       "      <td>0</td>\n",
       "      <td>0</td>\n",
       "      <td>0</td>\n",
       "      <td>0</td>\n",
       "      <td>0</td>\n",
       "      <td>1</td>\n",
       "      <td>Social, Finance, Analytics, Advertising</td>\n",
       "    </tr>\n",
       "    <tr>\n",
       "      <th>517</th>\n",
       "      <td>Perso0l Health</td>\n",
       "      <td>0</td>\n",
       "      <td>0</td>\n",
       "      <td>0</td>\n",
       "      <td>0</td>\n",
       "      <td>1</td>\n",
       "      <td>0</td>\n",
       "      <td>0</td>\n",
       "      <td>0</td>\n",
       "      <td>0</td>\n",
       "      <td>Health</td>\n",
       "    </tr>\n",
       "    <tr>\n",
       "      <th>518</th>\n",
       "      <td>Perso0lization</td>\n",
       "      <td>0</td>\n",
       "      <td>0</td>\n",
       "      <td>0</td>\n",
       "      <td>0</td>\n",
       "      <td>0</td>\n",
       "      <td>0</td>\n",
       "      <td>0</td>\n",
       "      <td>1</td>\n",
       "      <td>0</td>\n",
       "      <td>Others</td>\n",
       "    </tr>\n",
       "    <tr>\n",
       "      <th>534</th>\n",
       "      <td>Predictive A0lytics</td>\n",
       "      <td>0</td>\n",
       "      <td>0</td>\n",
       "      <td>0</td>\n",
       "      <td>0</td>\n",
       "      <td>0</td>\n",
       "      <td>0</td>\n",
       "      <td>0</td>\n",
       "      <td>0</td>\n",
       "      <td>1</td>\n",
       "      <td>Social, Finance, Analytics, Advertising</td>\n",
       "    </tr>\n",
       "    <tr>\n",
       "      <th>546</th>\n",
       "      <td>Professio0l Networking</td>\n",
       "      <td>0</td>\n",
       "      <td>0</td>\n",
       "      <td>0</td>\n",
       "      <td>0</td>\n",
       "      <td>0</td>\n",
       "      <td>0</td>\n",
       "      <td>1</td>\n",
       "      <td>0</td>\n",
       "      <td>0</td>\n",
       "      <td>News, Search and Messaging</td>\n",
       "    </tr>\n",
       "    <tr>\n",
       "      <th>547</th>\n",
       "      <td>Professio0l Services</td>\n",
       "      <td>0</td>\n",
       "      <td>0</td>\n",
       "      <td>0</td>\n",
       "      <td>0</td>\n",
       "      <td>0</td>\n",
       "      <td>0</td>\n",
       "      <td>0</td>\n",
       "      <td>1</td>\n",
       "      <td>0</td>\n",
       "      <td>Others</td>\n",
       "    </tr>\n",
       "    <tr>\n",
       "      <th>548</th>\n",
       "      <td>Project Ma0gement</td>\n",
       "      <td>0</td>\n",
       "      <td>0</td>\n",
       "      <td>0</td>\n",
       "      <td>0</td>\n",
       "      <td>0</td>\n",
       "      <td>0</td>\n",
       "      <td>0</td>\n",
       "      <td>1</td>\n",
       "      <td>0</td>\n",
       "      <td>Others</td>\n",
       "    </tr>\n",
       "    <tr>\n",
       "      <th>549</th>\n",
       "      <td>Promotio0l</td>\n",
       "      <td>0</td>\n",
       "      <td>0</td>\n",
       "      <td>0</td>\n",
       "      <td>0</td>\n",
       "      <td>0</td>\n",
       "      <td>0</td>\n",
       "      <td>0</td>\n",
       "      <td>0</td>\n",
       "      <td>1</td>\n",
       "      <td>Social, Finance, Analytics, Advertising</td>\n",
       "    </tr>\n",
       "    <tr>\n",
       "      <th>550</th>\n",
       "      <td>Property Ma0gement</td>\n",
       "      <td>0</td>\n",
       "      <td>0</td>\n",
       "      <td>0</td>\n",
       "      <td>0</td>\n",
       "      <td>0</td>\n",
       "      <td>0</td>\n",
       "      <td>0</td>\n",
       "      <td>0</td>\n",
       "      <td>1</td>\n",
       "      <td>Social, Finance, Analytics, Advertising</td>\n",
       "    </tr>\n",
       "    <tr>\n",
       "      <th>575</th>\n",
       "      <td>Risk Ma0gement</td>\n",
       "      <td>0</td>\n",
       "      <td>0</td>\n",
       "      <td>0</td>\n",
       "      <td>0</td>\n",
       "      <td>0</td>\n",
       "      <td>0</td>\n",
       "      <td>0</td>\n",
       "      <td>0</td>\n",
       "      <td>1</td>\n",
       "      <td>Social, Finance, Analytics, Advertising</td>\n",
       "    </tr>\n",
       "    <tr>\n",
       "      <th>612</th>\n",
       "      <td>Social Media Ma0gement</td>\n",
       "      <td>0</td>\n",
       "      <td>0</td>\n",
       "      <td>0</td>\n",
       "      <td>0</td>\n",
       "      <td>0</td>\n",
       "      <td>0</td>\n",
       "      <td>0</td>\n",
       "      <td>0</td>\n",
       "      <td>1</td>\n",
       "      <td>Social, Finance, Analytics, Advertising</td>\n",
       "    </tr>\n",
       "    <tr>\n",
       "      <th>633</th>\n",
       "      <td>Supply Chain Ma0gement</td>\n",
       "      <td>0</td>\n",
       "      <td>0</td>\n",
       "      <td>0</td>\n",
       "      <td>0</td>\n",
       "      <td>0</td>\n",
       "      <td>0</td>\n",
       "      <td>0</td>\n",
       "      <td>1</td>\n",
       "      <td>0</td>\n",
       "      <td>Others</td>\n",
       "    </tr>\n",
       "    <tr>\n",
       "      <th>637</th>\n",
       "      <td>Task Ma0gement</td>\n",
       "      <td>0</td>\n",
       "      <td>0</td>\n",
       "      <td>0</td>\n",
       "      <td>0</td>\n",
       "      <td>0</td>\n",
       "      <td>0</td>\n",
       "      <td>0</td>\n",
       "      <td>1</td>\n",
       "      <td>0</td>\n",
       "      <td>Others</td>\n",
       "    </tr>\n",
       "    <tr>\n",
       "      <th>664</th>\n",
       "      <td>Veteri0ry</td>\n",
       "      <td>0</td>\n",
       "      <td>0</td>\n",
       "      <td>0</td>\n",
       "      <td>0</td>\n",
       "      <td>1</td>\n",
       "      <td>0</td>\n",
       "      <td>0</td>\n",
       "      <td>0</td>\n",
       "      <td>0</td>\n",
       "      <td>Health</td>\n",
       "    </tr>\n",
       "    <tr>\n",
       "      <th>672</th>\n",
       "      <td>Waste Ma0gement</td>\n",
       "      <td>0</td>\n",
       "      <td>0</td>\n",
       "      <td>1</td>\n",
       "      <td>0</td>\n",
       "      <td>0</td>\n",
       "      <td>0</td>\n",
       "      <td>0</td>\n",
       "      <td>0</td>\n",
       "      <td>0</td>\n",
       "      <td>Cleantech / Semiconductors</td>\n",
       "    </tr>\n",
       "  </tbody>\n",
       "</table>\n",
       "</div>"
      ],
      "text/plain": [
       "                    category_list  Automotive & Sports  Blanks  \\\n",
       "20            Alter0tive Medicine                    0       0   \n",
       "22                       A0lytics                    0       0   \n",
       "59              Big Data A0lytics                    0       0   \n",
       "79              Business A0lytics                    0       0   \n",
       "89                        Can0bis                    0       0   \n",
       "91               Career Ma0gement                    0       0   \n",
       "103                 Chi0 Internet                    0       0   \n",
       "114               Cloud Ma0gement                    0       0   \n",
       "145             Contact Ma0gement                    0       0   \n",
       "198      Digital Rights Ma0gement                    0       0   \n",
       "199                Digital Sig0ge                    0       0   \n",
       "210            Document Ma0gement                    0       0   \n",
       "223              Educatio0l Games                    0       0   \n",
       "240              Energy Ma0gement                    0       0   \n",
       "243                Enterprise 2.0                    0       0   \n",
       "256               Event Ma0gement                    0       0   \n",
       "273                        Fi0nce                    0       0   \n",
       "274             Fi0nce Technology                    0       0   \n",
       "275            Fi0ncial Exchanges                    0       0   \n",
       "276             Fi0ncial Services                    0       0   \n",
       "281               Fleet Ma0gement                    0       0   \n",
       "310                     Gover0nce                    0       0   \n",
       "353            Identity Ma0gement                    0       0   \n",
       "370          Innovation Ma0gement                    0       0   \n",
       "372  Intellectual Asset Ma0gement                    0       0   \n",
       "384          Investment Ma0gement                    0       0   \n",
       "389                  IT Ma0gement                    0       0   \n",
       "391                     Jour0lism                    0       0   \n",
       "394           Knowledge Ma0gement                    0       0   \n",
       "400                Lead Ma0gement                    0       0   \n",
       "437          Medical Professio0ls                    0       0   \n",
       "448               Mobile A0lytics                    0       0   \n",
       "471                 0notechnology                    0       0   \n",
       "472    0tural Language Processing                    0       0   \n",
       "473              0tural Resources                    0       0   \n",
       "474                     0vigation                    0       0   \n",
       "514              Perso0l Branding                    0       0   \n",
       "515                  Perso0l Data                    0       0   \n",
       "516                Perso0l Fi0nce                    0       0   \n",
       "517                Perso0l Health                    0       0   \n",
       "518                Perso0lization                    0       0   \n",
       "534           Predictive A0lytics                    0       0   \n",
       "546        Professio0l Networking                    0       0   \n",
       "547          Professio0l Services                    0       0   \n",
       "548             Project Ma0gement                    0       0   \n",
       "549                    Promotio0l                    0       0   \n",
       "550            Property Ma0gement                    0       0   \n",
       "575                Risk Ma0gement                    0       0   \n",
       "612        Social Media Ma0gement                    0       0   \n",
       "633        Supply Chain Ma0gement                    0       0   \n",
       "637                Task Ma0gement                    0       0   \n",
       "664                     Veteri0ry                    0       0   \n",
       "672               Waste Ma0gement                    0       0   \n",
       "\n",
       "     Cleantech / Semiconductors  Entertainment  Health  Manufacturing  \\\n",
       "20                            0              0       1              0   \n",
       "22                            0              0       0              0   \n",
       "59                            0              0       0              0   \n",
       "79                            0              0       0              0   \n",
       "89                            0              0       1              0   \n",
       "91                            0              0       0              0   \n",
       "103                           0              0       0              0   \n",
       "114                           0              0       0              0   \n",
       "145                           0              0       0              0   \n",
       "198                           0              1       0              0   \n",
       "199                           0              1       0              0   \n",
       "210                           0              0       0              0   \n",
       "223                           0              1       0              0   \n",
       "240                           1              0       0              0   \n",
       "243                           0              0       0              0   \n",
       "256                           0              1       0              0   \n",
       "273                           0              0       0              0   \n",
       "274                           0              0       0              0   \n",
       "275                           0              0       0              0   \n",
       "276                           0              0       0              0   \n",
       "281                           0              0       0              0   \n",
       "310                           0              0       0              0   \n",
       "353                           0              0       0              0   \n",
       "370                           0              0       0              0   \n",
       "372                           0              0       0              0   \n",
       "384                           0              0       0              0   \n",
       "389                           0              0       0              0   \n",
       "391                           0              0       0              0   \n",
       "394                           0              0       0              0   \n",
       "400                           0              0       0              0   \n",
       "437                           0              0       1              0   \n",
       "448                           0              0       0              0   \n",
       "471                           1              0       0              0   \n",
       "472                           1              0       0              0   \n",
       "473                           1              0       0              0   \n",
       "474                           0              0       0              0   \n",
       "514                           0              0       0              0   \n",
       "515                           0              0       0              0   \n",
       "516                           0              0       0              0   \n",
       "517                           0              0       1              0   \n",
       "518                           0              0       0              0   \n",
       "534                           0              0       0              0   \n",
       "546                           0              0       0              0   \n",
       "547                           0              0       0              0   \n",
       "548                           0              0       0              0   \n",
       "549                           0              0       0              0   \n",
       "550                           0              0       0              0   \n",
       "575                           0              0       0              0   \n",
       "612                           0              0       0              0   \n",
       "633                           0              0       0              0   \n",
       "637                           0              0       0              0   \n",
       "664                           0              0       1              0   \n",
       "672                           1              0       0              0   \n",
       "\n",
       "     News, Search and Messaging  Others  \\\n",
       "20                            0       0   \n",
       "22                            0       0   \n",
       "59                            0       0   \n",
       "79                            0       0   \n",
       "89                            0       0   \n",
       "91                            0       0   \n",
       "103                           1       0   \n",
       "114                           1       0   \n",
       "145                           0       0   \n",
       "198                           0       0   \n",
       "199                           0       0   \n",
       "210                           0       1   \n",
       "223                           0       0   \n",
       "240                           0       0   \n",
       "243                           0       1   \n",
       "256                           0       0   \n",
       "273                           0       0   \n",
       "274                           0       0   \n",
       "275                           0       0   \n",
       "276                           0       0   \n",
       "281                           0       1   \n",
       "310                           0       1   \n",
       "353                           0       0   \n",
       "370                           0       0   \n",
       "372                           0       1   \n",
       "384                           0       0   \n",
       "389                           0       1   \n",
       "391                           1       0   \n",
       "394                           0       1   \n",
       "400                           0       1   \n",
       "437                           0       0   \n",
       "448                           0       0   \n",
       "471                           0       0   \n",
       "472                           0       0   \n",
       "473                           0       0   \n",
       "474                           1       0   \n",
       "514                           0       0   \n",
       "515                           0       1   \n",
       "516                           0       0   \n",
       "517                           0       0   \n",
       "518                           0       1   \n",
       "534                           0       0   \n",
       "546                           1       0   \n",
       "547                           0       1   \n",
       "548                           0       1   \n",
       "549                           0       0   \n",
       "550                           0       0   \n",
       "575                           0       0   \n",
       "612                           0       0   \n",
       "633                           0       1   \n",
       "637                           0       1   \n",
       "664                           0       0   \n",
       "672                           0       0   \n",
       "\n",
       "     Social, Finance, Analytics, Advertising  \\\n",
       "20                                         0   \n",
       "22                                         1   \n",
       "59                                         1   \n",
       "79                                         1   \n",
       "89                                         0   \n",
       "91                                         1   \n",
       "103                                        0   \n",
       "114                                        0   \n",
       "145                                        1   \n",
       "198                                        0   \n",
       "199                                        0   \n",
       "210                                        0   \n",
       "223                                        0   \n",
       "240                                        0   \n",
       "243                                        0   \n",
       "256                                        0   \n",
       "273                                        1   \n",
       "274                                        1   \n",
       "275                                        1   \n",
       "276                                        1   \n",
       "281                                        0   \n",
       "310                                        0   \n",
       "353                                        1   \n",
       "370                                        1   \n",
       "372                                        0   \n",
       "384                                        1   \n",
       "389                                        0   \n",
       "391                                        0   \n",
       "394                                        0   \n",
       "400                                        0   \n",
       "437                                        0   \n",
       "448                                        1   \n",
       "471                                        0   \n",
       "472                                        0   \n",
       "473                                        0   \n",
       "474                                        0   \n",
       "514                                        1   \n",
       "515                                        0   \n",
       "516                                        1   \n",
       "517                                        0   \n",
       "518                                        0   \n",
       "534                                        1   \n",
       "546                                        0   \n",
       "547                                        0   \n",
       "548                                        0   \n",
       "549                                        1   \n",
       "550                                        1   \n",
       "575                                        1   \n",
       "612                                        1   \n",
       "633                                        0   \n",
       "637                                        0   \n",
       "664                                        0   \n",
       "672                                        0   \n",
       "\n",
       "                                 main_sector  \n",
       "20                                    Health  \n",
       "22   Social, Finance, Analytics, Advertising  \n",
       "59   Social, Finance, Analytics, Advertising  \n",
       "79   Social, Finance, Analytics, Advertising  \n",
       "89                                    Health  \n",
       "91   Social, Finance, Analytics, Advertising  \n",
       "103               News, Search and Messaging  \n",
       "114               News, Search and Messaging  \n",
       "145  Social, Finance, Analytics, Advertising  \n",
       "198                            Entertainment  \n",
       "199                            Entertainment  \n",
       "210                                   Others  \n",
       "223                            Entertainment  \n",
       "240               Cleantech / Semiconductors  \n",
       "243                                   Others  \n",
       "256                            Entertainment  \n",
       "273  Social, Finance, Analytics, Advertising  \n",
       "274  Social, Finance, Analytics, Advertising  \n",
       "275  Social, Finance, Analytics, Advertising  \n",
       "276  Social, Finance, Analytics, Advertising  \n",
       "281                                   Others  \n",
       "310                                   Others  \n",
       "353  Social, Finance, Analytics, Advertising  \n",
       "370  Social, Finance, Analytics, Advertising  \n",
       "372                                   Others  \n",
       "384  Social, Finance, Analytics, Advertising  \n",
       "389                                   Others  \n",
       "391               News, Search and Messaging  \n",
       "394                                   Others  \n",
       "400                                   Others  \n",
       "437                                   Health  \n",
       "448  Social, Finance, Analytics, Advertising  \n",
       "471               Cleantech / Semiconductors  \n",
       "472               Cleantech / Semiconductors  \n",
       "473               Cleantech / Semiconductors  \n",
       "474               News, Search and Messaging  \n",
       "514  Social, Finance, Analytics, Advertising  \n",
       "515                                   Others  \n",
       "516  Social, Finance, Analytics, Advertising  \n",
       "517                                   Health  \n",
       "518                                   Others  \n",
       "534  Social, Finance, Analytics, Advertising  \n",
       "546               News, Search and Messaging  \n",
       "547                                   Others  \n",
       "548                                   Others  \n",
       "549  Social, Finance, Analytics, Advertising  \n",
       "550  Social, Finance, Analytics, Advertising  \n",
       "575  Social, Finance, Analytics, Advertising  \n",
       "612  Social, Finance, Analytics, Advertising  \n",
       "633                                   Others  \n",
       "637                                   Others  \n",
       "664                                   Health  \n",
       "672               Cleantech / Semiconductors  "
      ]
     },
     "execution_count": 256,
     "metadata": {},
     "output_type": "execute_result"
    }
   ],
   "source": [
    "#Upon looking at data, some of the primary sector name has '0' instead of na \n",
    "#which hinders data merging with master_frame \n",
    "Sector[Sector.category_list.str.contains('0', regex=False)]"
   ]
  },
  {
   "cell_type": "code",
   "execution_count": 257,
   "metadata": {},
   "outputs": [],
   "source": [
    "#replacing all '0' with 'na except Enterprise 2.0 which is meant to be'\n",
    "Sector[\"category_list\"] = Sector[\"category_list\"].apply(lambda x : x if x == 'Enterprise 2.0' else x.replace('0','na').title())"
   ]
  },
  {
   "cell_type": "code",
   "execution_count": 258,
   "metadata": {
    "scrolled": true
   },
   "outputs": [
    {
     "data": {
      "text/html": [
       "<div>\n",
       "<style scoped>\n",
       "    .dataframe tbody tr th:only-of-type {\n",
       "        vertical-align: middle;\n",
       "    }\n",
       "\n",
       "    .dataframe tbody tr th {\n",
       "        vertical-align: top;\n",
       "    }\n",
       "\n",
       "    .dataframe thead th {\n",
       "        text-align: right;\n",
       "    }\n",
       "</style>\n",
       "<table border=\"1\" class=\"dataframe\">\n",
       "  <thead>\n",
       "    <tr style=\"text-align: right;\">\n",
       "      <th></th>\n",
       "      <th>category_list</th>\n",
       "      <th>Automotive &amp; Sports</th>\n",
       "      <th>Blanks</th>\n",
       "      <th>Cleantech / Semiconductors</th>\n",
       "      <th>Entertainment</th>\n",
       "      <th>Health</th>\n",
       "      <th>Manufacturing</th>\n",
       "      <th>News, Search and Messaging</th>\n",
       "      <th>Others</th>\n",
       "      <th>Social, Finance, Analytics, Advertising</th>\n",
       "      <th>main_sector</th>\n",
       "    </tr>\n",
       "  </thead>\n",
       "  <tbody>\n",
       "    <tr>\n",
       "      <th>474</th>\n",
       "      <td>Navigation</td>\n",
       "      <td>0</td>\n",
       "      <td>0</td>\n",
       "      <td>0</td>\n",
       "      <td>0</td>\n",
       "      <td>0</td>\n",
       "      <td>0</td>\n",
       "      <td>1</td>\n",
       "      <td>0</td>\n",
       "      <td>0</td>\n",
       "      <td>News, Search and Messaging</td>\n",
       "    </tr>\n",
       "    <tr>\n",
       "      <th>557</th>\n",
       "      <td>Real Estate</td>\n",
       "      <td>0</td>\n",
       "      <td>0</td>\n",
       "      <td>0</td>\n",
       "      <td>0</td>\n",
       "      <td>0</td>\n",
       "      <td>0</td>\n",
       "      <td>0</td>\n",
       "      <td>1</td>\n",
       "      <td>0</td>\n",
       "      <td>Others</td>\n",
       "    </tr>\n",
       "    <tr>\n",
       "      <th>515</th>\n",
       "      <td>Personal Data</td>\n",
       "      <td>0</td>\n",
       "      <td>0</td>\n",
       "      <td>0</td>\n",
       "      <td>0</td>\n",
       "      <td>0</td>\n",
       "      <td>0</td>\n",
       "      <td>0</td>\n",
       "      <td>1</td>\n",
       "      <td>0</td>\n",
       "      <td>Others</td>\n",
       "    </tr>\n",
       "  </tbody>\n",
       "</table>\n",
       "</div>"
      ],
      "text/plain": [
       "     category_list  Automotive & Sports  Blanks  Cleantech / Semiconductors  \\\n",
       "474     Navigation                    0       0                           0   \n",
       "557    Real Estate                    0       0                           0   \n",
       "515  Personal Data                    0       0                           0   \n",
       "\n",
       "     Entertainment  Health  Manufacturing  News, Search and Messaging  Others  \\\n",
       "474              0       0              0                           1       0   \n",
       "557              0       0              0                           0       1   \n",
       "515              0       0              0                           0       1   \n",
       "\n",
       "     Social, Finance, Analytics, Advertising                 main_sector  \n",
       "474                                        0  News, Search and Messaging  \n",
       "557                                        0                      Others  \n",
       "515                                        0                      Others  "
      ]
     },
     "execution_count": 258,
     "metadata": {},
     "output_type": "execute_result"
    }
   ],
   "source": [
    "#Checking random data\n",
    "Sector.loc[[474,557,515]]"
   ]
  },
  {
   "cell_type": "code",
   "execution_count": 259,
   "metadata": {},
   "outputs": [
    {
     "data": {
      "text/html": [
       "<div>\n",
       "<style scoped>\n",
       "    .dataframe tbody tr th:only-of-type {\n",
       "        vertical-align: middle;\n",
       "    }\n",
       "\n",
       "    .dataframe tbody tr th {\n",
       "        vertical-align: top;\n",
       "    }\n",
       "\n",
       "    .dataframe thead th {\n",
       "        text-align: right;\n",
       "    }\n",
       "</style>\n",
       "<table border=\"1\" class=\"dataframe\">\n",
       "  <thead>\n",
       "    <tr style=\"text-align: right;\">\n",
       "      <th></th>\n",
       "      <th>category_list</th>\n",
       "      <th>Automotive &amp; Sports</th>\n",
       "      <th>Blanks</th>\n",
       "      <th>Cleantech / Semiconductors</th>\n",
       "      <th>Entertainment</th>\n",
       "      <th>Health</th>\n",
       "      <th>Manufacturing</th>\n",
       "      <th>News, Search and Messaging</th>\n",
       "      <th>Others</th>\n",
       "      <th>Social, Finance, Analytics, Advertising</th>\n",
       "      <th>main_sector</th>\n",
       "    </tr>\n",
       "  </thead>\n",
       "  <tbody>\n",
       "    <tr>\n",
       "      <th>1</th>\n",
       "      <td>3D</td>\n",
       "      <td>0</td>\n",
       "      <td>0</td>\n",
       "      <td>0</td>\n",
       "      <td>0</td>\n",
       "      <td>0</td>\n",
       "      <td>1</td>\n",
       "      <td>0</td>\n",
       "      <td>0</td>\n",
       "      <td>0</td>\n",
       "      <td>Manufacturing</td>\n",
       "    </tr>\n",
       "    <tr>\n",
       "      <th>2</th>\n",
       "      <td>3D Printing</td>\n",
       "      <td>0</td>\n",
       "      <td>0</td>\n",
       "      <td>0</td>\n",
       "      <td>0</td>\n",
       "      <td>0</td>\n",
       "      <td>1</td>\n",
       "      <td>0</td>\n",
       "      <td>0</td>\n",
       "      <td>0</td>\n",
       "      <td>Manufacturing</td>\n",
       "    </tr>\n",
       "    <tr>\n",
       "      <th>3</th>\n",
       "      <td>3D Technology</td>\n",
       "      <td>0</td>\n",
       "      <td>0</td>\n",
       "      <td>0</td>\n",
       "      <td>0</td>\n",
       "      <td>0</td>\n",
       "      <td>1</td>\n",
       "      <td>0</td>\n",
       "      <td>0</td>\n",
       "      <td>0</td>\n",
       "      <td>Manufacturing</td>\n",
       "    </tr>\n",
       "    <tr>\n",
       "      <th>4</th>\n",
       "      <td>Accounting</td>\n",
       "      <td>0</td>\n",
       "      <td>0</td>\n",
       "      <td>0</td>\n",
       "      <td>0</td>\n",
       "      <td>0</td>\n",
       "      <td>0</td>\n",
       "      <td>0</td>\n",
       "      <td>0</td>\n",
       "      <td>1</td>\n",
       "      <td>Social, Finance, Analytics, Advertising</td>\n",
       "    </tr>\n",
       "    <tr>\n",
       "      <th>5</th>\n",
       "      <td>Active Lifestyle</td>\n",
       "      <td>0</td>\n",
       "      <td>0</td>\n",
       "      <td>0</td>\n",
       "      <td>0</td>\n",
       "      <td>1</td>\n",
       "      <td>0</td>\n",
       "      <td>0</td>\n",
       "      <td>0</td>\n",
       "      <td>0</td>\n",
       "      <td>Health</td>\n",
       "    </tr>\n",
       "  </tbody>\n",
       "</table>\n",
       "</div>"
      ],
      "text/plain": [
       "      category_list  Automotive & Sports  Blanks  Cleantech / Semiconductors  \\\n",
       "1                3D                    0       0                           0   \n",
       "2       3D Printing                    0       0                           0   \n",
       "3     3D Technology                    0       0                           0   \n",
       "4        Accounting                    0       0                           0   \n",
       "5  Active Lifestyle                    0       0                           0   \n",
       "\n",
       "   Entertainment  Health  Manufacturing  News, Search and Messaging  Others  \\\n",
       "1              0       0              1                           0       0   \n",
       "2              0       0              1                           0       0   \n",
       "3              0       0              1                           0       0   \n",
       "4              0       0              0                           0       0   \n",
       "5              0       1              0                           0       0   \n",
       "\n",
       "   Social, Finance, Analytics, Advertising  \\\n",
       "1                                        0   \n",
       "2                                        0   \n",
       "3                                        0   \n",
       "4                                        1   \n",
       "5                                        0   \n",
       "\n",
       "                               main_sector  \n",
       "1                            Manufacturing  \n",
       "2                            Manufacturing  \n",
       "3                            Manufacturing  \n",
       "4  Social, Finance, Analytics, Advertising  \n",
       "5                                   Health  "
      ]
     },
     "execution_count": 259,
     "metadata": {},
     "output_type": "execute_result"
    }
   ],
   "source": [
    "Sector.head()"
   ]
  },
  {
   "cell_type": "code",
   "execution_count": 260,
   "metadata": {},
   "outputs": [],
   "source": [
    "#Changing datatype of category_list\n",
    "master_frame[\"category_list\"] = master_frame.category_list.astype('str')"
   ]
  },
  {
   "cell_type": "code",
   "execution_count": 261,
   "metadata": {},
   "outputs": [],
   "source": [
    "#Considering string before first pipe symbol (|) as primary sector\n",
    "master_frame[\"primary_sector\"] = master_frame.category_list.apply(lambda x : x.split('|')[0].title())"
   ]
  },
  {
   "cell_type": "code",
   "execution_count": 262,
   "metadata": {
    "scrolled": true
   },
   "outputs": [
    {
     "data": {
      "text/plain": [
       "437"
      ]
     },
     "execution_count": 262,
     "metadata": {},
     "output_type": "execute_result"
    }
   ],
   "source": [
    "#No of unique values in primary sector\n",
    "len(master_frame.primary_sector.value_counts().index)"
   ]
  },
  {
   "cell_type": "code",
   "execution_count": 263,
   "metadata": {},
   "outputs": [
    {
     "data": {
      "text/plain": [
       "0"
      ]
     },
     "execution_count": 263,
     "metadata": {},
     "output_type": "execute_result"
    }
   ],
   "source": [
    "master_frame.primary_sector.isnull().sum()"
   ]
  },
  {
   "cell_type": "markdown",
   "metadata": {},
   "source": [
    "### Adding main sector to master_frame"
   ]
  },
  {
   "cell_type": "code",
   "execution_count": 264,
   "metadata": {},
   "outputs": [],
   "source": [
    "master_frame = master_frame.merge(Sector[['category_list','main_sector']], how = 'inner', left_on = \"primary_sector\", right_on = \"category_list\")"
   ]
  },
  {
   "cell_type": "code",
   "execution_count": 265,
   "metadata": {},
   "outputs": [],
   "source": [
    "#dropping redundant columns\n",
    "master_frame.drop(columns = 'category_list_y', inplace = True)"
   ]
  },
  {
   "cell_type": "code",
   "execution_count": 266,
   "metadata": {},
   "outputs": [
    {
     "data": {
      "text/html": [
       "<div>\n",
       "<style scoped>\n",
       "    .dataframe tbody tr th:only-of-type {\n",
       "        vertical-align: middle;\n",
       "    }\n",
       "\n",
       "    .dataframe tbody tr th {\n",
       "        vertical-align: top;\n",
       "    }\n",
       "\n",
       "    .dataframe thead th {\n",
       "        text-align: right;\n",
       "    }\n",
       "</style>\n",
       "<table border=\"1\" class=\"dataframe\">\n",
       "  <thead>\n",
       "    <tr style=\"text-align: right;\">\n",
       "      <th></th>\n",
       "      <th>company_permalink</th>\n",
       "      <th>funding_round_type</th>\n",
       "      <th>raised_amount_usd</th>\n",
       "      <th>name</th>\n",
       "      <th>category_list_x</th>\n",
       "      <th>status</th>\n",
       "      <th>country_code</th>\n",
       "      <th>primary_sector</th>\n",
       "      <th>main_sector</th>\n",
       "    </tr>\n",
       "  </thead>\n",
       "  <tbody>\n",
       "    <tr>\n",
       "      <th>0</th>\n",
       "      <td>/organization/0xdata</td>\n",
       "      <td>venture</td>\n",
       "      <td>8900000.0</td>\n",
       "      <td>H2O.ai</td>\n",
       "      <td>Analytics</td>\n",
       "      <td>operating</td>\n",
       "      <td>USA</td>\n",
       "      <td>Analytics</td>\n",
       "      <td>Social, Finance, Analytics, Advertising</td>\n",
       "    </tr>\n",
       "    <tr>\n",
       "      <th>1</th>\n",
       "      <td>/organization/accelerated-vision-group</td>\n",
       "      <td>venture</td>\n",
       "      <td>6000000.0</td>\n",
       "      <td>Accelerated Vision Group</td>\n",
       "      <td>Analytics</td>\n",
       "      <td>operating</td>\n",
       "      <td>USA</td>\n",
       "      <td>Analytics</td>\n",
       "      <td>Social, Finance, Analytics, Advertising</td>\n",
       "    </tr>\n",
       "    <tr>\n",
       "      <th>2</th>\n",
       "      <td>/organization/accelops</td>\n",
       "      <td>venture</td>\n",
       "      <td>7000000.0</td>\n",
       "      <td>AccelOps</td>\n",
       "      <td>Analytics|Cloud Computing|Cloud Management|Net...</td>\n",
       "      <td>operating</td>\n",
       "      <td>USA</td>\n",
       "      <td>Analytics</td>\n",
       "      <td>Social, Finance, Analytics, Advertising</td>\n",
       "    </tr>\n",
       "    <tr>\n",
       "      <th>3</th>\n",
       "      <td>/organization/adaptive-insights</td>\n",
       "      <td>venture</td>\n",
       "      <td>14000000.0</td>\n",
       "      <td>Adaptive Insights</td>\n",
       "      <td>Analytics|Business Analytics|Cloud Data Servic...</td>\n",
       "      <td>operating</td>\n",
       "      <td>USA</td>\n",
       "      <td>Analytics</td>\n",
       "      <td>Social, Finance, Analytics, Advertising</td>\n",
       "    </tr>\n",
       "    <tr>\n",
       "      <th>4</th>\n",
       "      <td>/organization/adaptive-insights</td>\n",
       "      <td>venture</td>\n",
       "      <td>7500000.0</td>\n",
       "      <td>Adaptive Insights</td>\n",
       "      <td>Analytics|Business Analytics|Cloud Data Servic...</td>\n",
       "      <td>operating</td>\n",
       "      <td>USA</td>\n",
       "      <td>Analytics</td>\n",
       "      <td>Social, Finance, Analytics, Advertising</td>\n",
       "    </tr>\n",
       "  </tbody>\n",
       "</table>\n",
       "</div>"
      ],
      "text/plain": [
       "                        company_permalink funding_round_type  \\\n",
       "0                    /organization/0xdata            venture   \n",
       "1  /organization/accelerated-vision-group            venture   \n",
       "2                  /organization/accelops            venture   \n",
       "3         /organization/adaptive-insights            venture   \n",
       "4         /organization/adaptive-insights            venture   \n",
       "\n",
       "   raised_amount_usd                      name  \\\n",
       "0          8900000.0                    H2O.ai   \n",
       "1          6000000.0  Accelerated Vision Group   \n",
       "2          7000000.0                  AccelOps   \n",
       "3         14000000.0         Adaptive Insights   \n",
       "4          7500000.0         Adaptive Insights   \n",
       "\n",
       "                                     category_list_x     status country_code  \\\n",
       "0                                          Analytics  operating          USA   \n",
       "1                                          Analytics  operating          USA   \n",
       "2  Analytics|Cloud Computing|Cloud Management|Net...  operating          USA   \n",
       "3  Analytics|Business Analytics|Cloud Data Servic...  operating          USA   \n",
       "4  Analytics|Business Analytics|Cloud Data Servic...  operating          USA   \n",
       "\n",
       "  primary_sector                              main_sector  \n",
       "0      Analytics  Social, Finance, Analytics, Advertising  \n",
       "1      Analytics  Social, Finance, Analytics, Advertising  \n",
       "2      Analytics  Social, Finance, Analytics, Advertising  \n",
       "3      Analytics  Social, Finance, Analytics, Advertising  \n",
       "4      Analytics  Social, Finance, Analytics, Advertising  "
      ]
     },
     "execution_count": 266,
     "metadata": {},
     "output_type": "execute_result"
    }
   ],
   "source": [
    "master_frame.head()"
   ]
  },
  {
   "cell_type": "markdown",
   "metadata": {},
   "source": [
    "# Checkpoint 5: Sector Analysis 2"
   ]
  },
  {
   "cell_type": "markdown",
   "metadata": {},
   "source": [
    "### Creating D1"
   ]
  },
  {
   "cell_type": "code",
   "execution_count": 267,
   "metadata": {},
   "outputs": [],
   "source": [
    "D1 = master_frame[(master_frame.country_code == 'USA') & (master_frame.raised_amount_usd.between(5000000,15000000))]"
   ]
  },
  {
   "cell_type": "code",
   "execution_count": 268,
   "metadata": {},
   "outputs": [],
   "source": [
    "USA_count = D1.groupby(\"main_sector\")[\"company_permalink\"].count().reset_index().rename(columns = {'company_permalink' : 'No_of_investments'})"
   ]
  },
  {
   "cell_type": "code",
   "execution_count": 269,
   "metadata": {},
   "outputs": [],
   "source": [
    "USA_amount = D1.groupby(\"main_sector\")[\"raised_amount_usd\"].sum().reset_index().rename(columns = {'raised_amount_usd' : 'investment_amount'})"
   ]
  },
  {
   "cell_type": "code",
   "execution_count": 270,
   "metadata": {},
   "outputs": [],
   "source": [
    "USA_sector = USA_count.merge(USA_amount,how = \"inner\", on = 'main_sector' )"
   ]
  },
  {
   "cell_type": "code",
   "execution_count": 271,
   "metadata": {},
   "outputs": [],
   "source": [
    "D1 = D1.merge(USA_sector,how = \"left\", on = 'main_sector' )"
   ]
  },
  {
   "cell_type": "code",
   "execution_count": 272,
   "metadata": {},
   "outputs": [],
   "source": [
    "USA_sector[\"Country\"] = 'USA'"
   ]
  },
  {
   "cell_type": "markdown",
   "metadata": {},
   "source": [
    "### Creating D2"
   ]
  },
  {
   "cell_type": "code",
   "execution_count": 273,
   "metadata": {},
   "outputs": [],
   "source": [
    "D2 = master_frame[(master_frame.country_code == 'GBR') & (master_frame.raised_amount_usd.between(5000000,15000000))]"
   ]
  },
  {
   "cell_type": "code",
   "execution_count": 274,
   "metadata": {},
   "outputs": [],
   "source": [
    "GBR_count = D2.groupby(\"main_sector\")[\"company_permalink\"].count().reset_index().rename(columns = {'company_permalink' : 'No_of_investments'})"
   ]
  },
  {
   "cell_type": "code",
   "execution_count": 275,
   "metadata": {},
   "outputs": [],
   "source": [
    "GBR_amount = D2.groupby(\"main_sector\")[\"raised_amount_usd\"].sum().reset_index().rename(columns = {'raised_amount_usd' : 'investment_amount'})"
   ]
  },
  {
   "cell_type": "code",
   "execution_count": 276,
   "metadata": {},
   "outputs": [],
   "source": [
    "GBR_sector = GBR_count.merge(GBR_amount,how = \"inner\", on = 'main_sector' )"
   ]
  },
  {
   "cell_type": "code",
   "execution_count": 277,
   "metadata": {},
   "outputs": [],
   "source": [
    "D2 = D2.merge(GBR_sector,how = \"left\", on = 'main_sector' )"
   ]
  },
  {
   "cell_type": "code",
   "execution_count": 278,
   "metadata": {},
   "outputs": [],
   "source": [
    "GBR_sector[\"Country\"] = 'UK'"
   ]
  },
  {
   "cell_type": "markdown",
   "metadata": {},
   "source": [
    "### Creating D3"
   ]
  },
  {
   "cell_type": "code",
   "execution_count": 279,
   "metadata": {},
   "outputs": [],
   "source": [
    "D3 = master_frame[(master_frame.country_code == 'CAN') & (master_frame.raised_amount_usd.between(5000000,15000000))]"
   ]
  },
  {
   "cell_type": "code",
   "execution_count": 280,
   "metadata": {},
   "outputs": [],
   "source": [
    "CAN_count = D3.groupby(\"main_sector\")[\"company_permalink\"].count().reset_index().rename(columns = {'company_permalink' : 'No_of_investments'})"
   ]
  },
  {
   "cell_type": "code",
   "execution_count": 281,
   "metadata": {},
   "outputs": [],
   "source": [
    "CAN_amount = D3.groupby(\"main_sector\")[\"raised_amount_usd\"].sum().reset_index().rename(columns = {'raised_amount_usd' : 'investment_amount'})"
   ]
  },
  {
   "cell_type": "code",
   "execution_count": 282,
   "metadata": {},
   "outputs": [],
   "source": [
    "CAN_sector = CAN_count.merge(CAN_amount,how = \"inner\", on = 'main_sector' )"
   ]
  },
  {
   "cell_type": "code",
   "execution_count": 283,
   "metadata": {},
   "outputs": [],
   "source": [
    "D3 = D3.merge(CAN_sector,how = \"left\", on = 'main_sector' )"
   ]
  },
  {
   "cell_type": "code",
   "execution_count": 284,
   "metadata": {},
   "outputs": [],
   "source": [
    "CAN_sector[\"Country\"] = 'Canada'"
   ]
  },
  {
   "cell_type": "code",
   "execution_count": null,
   "metadata": {},
   "outputs": [],
   "source": []
  },
  {
   "cell_type": "code",
   "execution_count": null,
   "metadata": {},
   "outputs": [],
   "source": []
  },
  {
   "cell_type": "markdown",
   "metadata": {},
   "source": [
    "# Creating table for Sector analysis"
   ]
  },
  {
   "cell_type": "code",
   "execution_count": 285,
   "metadata": {},
   "outputs": [],
   "source": [
    "Sector = pd.concat([USA_sector,GBR_sector,CAN_sector],ignore_index=True)"
   ]
  },
  {
   "cell_type": "code",
   "execution_count": 286,
   "metadata": {},
   "outputs": [
    {
     "data": {
      "text/plain": [
       "main_sector          1\n",
       "No_of_investments    1\n",
       "investment_amount    1\n",
       "Country              1\n",
       "dtype: int64"
      ]
     },
     "execution_count": 286,
     "metadata": {},
     "output_type": "execute_result"
    }
   ],
   "source": [
    "Sector[Sector.investment_amount.between(5000000,15000000)].count()"
   ]
  },
  {
   "cell_type": "code",
   "execution_count": 287,
   "metadata": {},
   "outputs": [
    {
     "data": {
      "text/plain": [
       "Country\n",
       "Canada      422\n",
       "UK          621\n",
       "USA       12063\n",
       "Name: No_of_investments, dtype: int64"
      ]
     },
     "execution_count": 287,
     "metadata": {},
     "output_type": "execute_result"
    }
   ],
   "source": [
    "Sector.groupby(['Country'])['No_of_investments'].sum()"
   ]
  },
  {
   "cell_type": "code",
   "execution_count": 288,
   "metadata": {},
   "outputs": [
    {
     "data": {
      "text/plain": [
       "Country\n",
       "Canada    3.599290e+09\n",
       "UK        5.379079e+09\n",
       "USA       1.077571e+11\n",
       "Name: investment_amount, dtype: float64"
      ]
     },
     "execution_count": 288,
     "metadata": {},
     "output_type": "execute_result"
    }
   ],
   "source": [
    "Sector.groupby(['Country'])['investment_amount'].sum()"
   ]
  },
  {
   "cell_type": "code",
   "execution_count": 289,
   "metadata": {},
   "outputs": [
    {
     "data": {
      "text/html": [
       "<div>\n",
       "<style scoped>\n",
       "    .dataframe tbody tr th:only-of-type {\n",
       "        vertical-align: middle;\n",
       "    }\n",
       "\n",
       "    .dataframe tbody tr th {\n",
       "        vertical-align: top;\n",
       "    }\n",
       "\n",
       "    .dataframe thead th {\n",
       "        text-align: right;\n",
       "    }\n",
       "</style>\n",
       "<table border=\"1\" class=\"dataframe\">\n",
       "  <thead>\n",
       "    <tr style=\"text-align: right;\">\n",
       "      <th></th>\n",
       "      <th>main_sector</th>\n",
       "      <th>No_of_investments</th>\n",
       "      <th>investment_amount</th>\n",
       "      <th>Country</th>\n",
       "    </tr>\n",
       "  </thead>\n",
       "  <tbody>\n",
       "    <tr>\n",
       "      <th>6</th>\n",
       "      <td>Others</td>\n",
       "      <td>2950</td>\n",
       "      <td>2.632101e+10</td>\n",
       "      <td>USA</td>\n",
       "    </tr>\n",
       "    <tr>\n",
       "      <th>7</th>\n",
       "      <td>Social, Finance, Analytics, Advertising</td>\n",
       "      <td>2714</td>\n",
       "      <td>2.380738e+10</td>\n",
       "      <td>USA</td>\n",
       "    </tr>\n",
       "    <tr>\n",
       "      <th>1</th>\n",
       "      <td>Cleantech / Semiconductors</td>\n",
       "      <td>2350</td>\n",
       "      <td>2.163343e+10</td>\n",
       "      <td>USA</td>\n",
       "    </tr>\n",
       "  </tbody>\n",
       "</table>\n",
       "</div>"
      ],
      "text/plain": [
       "                               main_sector  No_of_investments  \\\n",
       "6                                   Others               2950   \n",
       "7  Social, Finance, Analytics, Advertising               2714   \n",
       "1               Cleantech / Semiconductors               2350   \n",
       "\n",
       "   investment_amount Country  \n",
       "6       2.632101e+10     USA  \n",
       "7       2.380738e+10     USA  \n",
       "1       2.163343e+10     USA  "
      ]
     },
     "execution_count": 289,
     "metadata": {},
     "output_type": "execute_result"
    }
   ],
   "source": [
    "Sector[Sector['Country'] == 'USA'].sort_values('No_of_investments', ascending = False)[:3]"
   ]
  },
  {
   "cell_type": "code",
   "execution_count": 290,
   "metadata": {},
   "outputs": [
    {
     "data": {
      "text/html": [
       "<div>\n",
       "<style scoped>\n",
       "    .dataframe tbody tr th:only-of-type {\n",
       "        vertical-align: middle;\n",
       "    }\n",
       "\n",
       "    .dataframe tbody tr th {\n",
       "        vertical-align: top;\n",
       "    }\n",
       "\n",
       "    .dataframe thead th {\n",
       "        text-align: right;\n",
       "    }\n",
       "</style>\n",
       "<table border=\"1\" class=\"dataframe\">\n",
       "  <thead>\n",
       "    <tr style=\"text-align: right;\">\n",
       "      <th></th>\n",
       "      <th>main_sector</th>\n",
       "      <th>No_of_investments</th>\n",
       "      <th>investment_amount</th>\n",
       "      <th>Country</th>\n",
       "    </tr>\n",
       "  </thead>\n",
       "  <tbody>\n",
       "    <tr>\n",
       "      <th>14</th>\n",
       "      <td>Others</td>\n",
       "      <td>147</td>\n",
       "      <td>1.283624e+09</td>\n",
       "      <td>UK</td>\n",
       "    </tr>\n",
       "    <tr>\n",
       "      <th>15</th>\n",
       "      <td>Social, Finance, Analytics, Advertising</td>\n",
       "      <td>133</td>\n",
       "      <td>1.089404e+09</td>\n",
       "      <td>UK</td>\n",
       "    </tr>\n",
       "    <tr>\n",
       "      <th>9</th>\n",
       "      <td>Cleantech / Semiconductors</td>\n",
       "      <td>130</td>\n",
       "      <td>1.163990e+09</td>\n",
       "      <td>UK</td>\n",
       "    </tr>\n",
       "  </tbody>\n",
       "</table>\n",
       "</div>"
      ],
      "text/plain": [
       "                                main_sector  No_of_investments  \\\n",
       "14                                   Others                147   \n",
       "15  Social, Finance, Analytics, Advertising                133   \n",
       "9                Cleantech / Semiconductors                130   \n",
       "\n",
       "    investment_amount Country  \n",
       "14       1.283624e+09      UK  \n",
       "15       1.089404e+09      UK  \n",
       "9        1.163990e+09      UK  "
      ]
     },
     "execution_count": 290,
     "metadata": {},
     "output_type": "execute_result"
    }
   ],
   "source": [
    "Sector[Sector['Country'] == 'UK'].sort_values('No_of_investments', ascending = False)[:3]"
   ]
  },
  {
   "cell_type": "code",
   "execution_count": 291,
   "metadata": {},
   "outputs": [
    {
     "data": {
      "text/html": [
       "<div>\n",
       "<style scoped>\n",
       "    .dataframe tbody tr th:only-of-type {\n",
       "        vertical-align: middle;\n",
       "    }\n",
       "\n",
       "    .dataframe tbody tr th {\n",
       "        vertical-align: top;\n",
       "    }\n",
       "\n",
       "    .dataframe thead th {\n",
       "        text-align: right;\n",
       "    }\n",
       "</style>\n",
       "<table border=\"1\" class=\"dataframe\">\n",
       "  <thead>\n",
       "    <tr style=\"text-align: right;\">\n",
       "      <th></th>\n",
       "      <th>main_sector</th>\n",
       "      <th>No_of_investments</th>\n",
       "      <th>investment_amount</th>\n",
       "      <th>Country</th>\n",
       "    </tr>\n",
       "  </thead>\n",
       "  <tbody>\n",
       "    <tr>\n",
       "      <th>17</th>\n",
       "      <td>Cleantech / Semiconductors</td>\n",
       "      <td>112</td>\n",
       "      <td>1.015888e+09</td>\n",
       "      <td>Canada</td>\n",
       "    </tr>\n",
       "    <tr>\n",
       "      <th>22</th>\n",
       "      <td>Others</td>\n",
       "      <td>109</td>\n",
       "      <td>9.261380e+08</td>\n",
       "      <td>Canada</td>\n",
       "    </tr>\n",
       "    <tr>\n",
       "      <th>23</th>\n",
       "      <td>Social, Finance, Analytics, Advertising</td>\n",
       "      <td>78</td>\n",
       "      <td>6.561431e+08</td>\n",
       "      <td>Canada</td>\n",
       "    </tr>\n",
       "  </tbody>\n",
       "</table>\n",
       "</div>"
      ],
      "text/plain": [
       "                                main_sector  No_of_investments  \\\n",
       "17               Cleantech / Semiconductors                112   \n",
       "22                                   Others                109   \n",
       "23  Social, Finance, Analytics, Advertising                 78   \n",
       "\n",
       "    investment_amount Country  \n",
       "17       1.015888e+09  Canada  \n",
       "22       9.261380e+08  Canada  \n",
       "23       6.561431e+08  Canada  "
      ]
     },
     "execution_count": 291,
     "metadata": {},
     "output_type": "execute_result"
    }
   ],
   "source": [
    "Sector[Sector['Country'] == 'Canada'].sort_values('No_of_investments', ascending = False)[:3]"
   ]
  },
  {
   "cell_type": "code",
   "execution_count": 292,
   "metadata": {},
   "outputs": [
    {
     "data": {
      "text/plain": [
       "name\n",
       "Virtustream    64300000.0\n",
       "Name: raised_amount_usd, dtype: float64"
      ]
     },
     "execution_count": 292,
     "metadata": {},
     "output_type": "execute_result"
    }
   ],
   "source": [
    "D1[D1.main_sector == 'Others'].groupby('name')['raised_amount_usd'].sum().sort_values(ascending = False)[[0]]"
   ]
  },
  {
   "cell_type": "code",
   "execution_count": 293,
   "metadata": {},
   "outputs": [
    {
     "data": {
      "text/plain": [
       "name\n",
       "SST Inc. (Formerly ShotSpotter)    67933006.0\n",
       "Name: raised_amount_usd, dtype: float64"
      ]
     },
     "execution_count": 293,
     "metadata": {},
     "output_type": "execute_result"
    }
   ],
   "source": [
    "D1[D1.main_sector == 'Social, Finance, Analytics, Advertising'].groupby('name')['raised_amount_usd'].sum().sort_values(ascending = False)[[0]]"
   ]
  },
  {
   "cell_type": "code",
   "execution_count": 294,
   "metadata": {},
   "outputs": [
    {
     "data": {
      "text/plain": [
       "name\n",
       "Electric Cloud    37000000.0\n",
       "Name: raised_amount_usd, dtype: float64"
      ]
     },
     "execution_count": 294,
     "metadata": {},
     "output_type": "execute_result"
    }
   ],
   "source": [
    "D2[D2.main_sector == 'Others'].groupby('name')['raised_amount_usd'].sum().sort_values(ascending = False)[[0]]"
   ]
  },
  {
   "cell_type": "code",
   "execution_count": 295,
   "metadata": {},
   "outputs": [
    {
     "data": {
      "text/plain": [
       "name\n",
       "Celltick Technologies    37500000.0\n",
       "Name: raised_amount_usd, dtype: float64"
      ]
     },
     "execution_count": 295,
     "metadata": {},
     "output_type": "execute_result"
    }
   ],
   "source": [
    "D2[D2.main_sector == 'Social, Finance, Analytics, Advertising'].groupby('name')['raised_amount_usd'].sum().sort_values(ascending = False)[[0]]"
   ]
  },
  {
   "cell_type": "code",
   "execution_count": 296,
   "metadata": {},
   "outputs": [
    {
     "data": {
      "text/plain": [
       "name\n",
       "Fresco Microchip    48000000.0\n",
       "Name: raised_amount_usd, dtype: float64"
      ]
     },
     "execution_count": 296,
     "metadata": {},
     "output_type": "execute_result"
    }
   ],
   "source": [
    "D3[D3.main_sector == 'Cleantech / Semiconductors'].groupby('name')['raised_amount_usd'].sum().sort_values(ascending = False)[[0]]"
   ]
  },
  {
   "cell_type": "code",
   "execution_count": 297,
   "metadata": {},
   "outputs": [
    {
     "data": {
      "text/plain": [
       "name\n",
       "QuickPlay Media    38700000.0\n",
       "Name: raised_amount_usd, dtype: float64"
      ]
     },
     "execution_count": 297,
     "metadata": {},
     "output_type": "execute_result"
    }
   ],
   "source": [
    "D3[D3.main_sector == 'Others'].groupby('name')['raised_amount_usd'].sum().sort_values(ascending = False)[[0]]"
   ]
  },
  {
   "cell_type": "code",
   "execution_count": 298,
   "metadata": {},
   "outputs": [
    {
     "data": {
      "text/html": [
       "<div>\n",
       "<style scoped>\n",
       "    .dataframe tbody tr th:only-of-type {\n",
       "        vertical-align: middle;\n",
       "    }\n",
       "\n",
       "    .dataframe tbody tr th {\n",
       "        vertical-align: top;\n",
       "    }\n",
       "\n",
       "    .dataframe thead th {\n",
       "        text-align: right;\n",
       "    }\n",
       "</style>\n",
       "<table border=\"1\" class=\"dataframe\">\n",
       "  <thead>\n",
       "    <tr style=\"text-align: right;\">\n",
       "      <th></th>\n",
       "      <th>main_sector</th>\n",
       "      <th>No_of_investments</th>\n",
       "      <th>investment_amount</th>\n",
       "      <th>Country</th>\n",
       "    </tr>\n",
       "  </thead>\n",
       "  <tbody>\n",
       "    <tr>\n",
       "      <th>14</th>\n",
       "      <td>Others</td>\n",
       "      <td>147</td>\n",
       "      <td>1.283624e+09</td>\n",
       "      <td>UK</td>\n",
       "    </tr>\n",
       "    <tr>\n",
       "      <th>15</th>\n",
       "      <td>Social, Finance, Analytics, Advertising</td>\n",
       "      <td>133</td>\n",
       "      <td>1.089404e+09</td>\n",
       "      <td>UK</td>\n",
       "    </tr>\n",
       "    <tr>\n",
       "      <th>9</th>\n",
       "      <td>Cleantech / Semiconductors</td>\n",
       "      <td>130</td>\n",
       "      <td>1.163990e+09</td>\n",
       "      <td>UK</td>\n",
       "    </tr>\n",
       "  </tbody>\n",
       "</table>\n",
       "</div>"
      ],
      "text/plain": [
       "                                main_sector  No_of_investments  \\\n",
       "14                                   Others                147   \n",
       "15  Social, Finance, Analytics, Advertising                133   \n",
       "9                Cleantech / Semiconductors                130   \n",
       "\n",
       "    investment_amount Country  \n",
       "14       1.283624e+09      UK  \n",
       "15       1.089404e+09      UK  \n",
       "9        1.163990e+09      UK  "
      ]
     },
     "execution_count": 298,
     "metadata": {},
     "output_type": "execute_result"
    }
   ],
   "source": [
    "Sector[Sector['Country'] == 'UK'].sort_values('No_of_investments', ascending = False)[:3]"
   ]
  },
  {
   "cell_type": "markdown",
   "metadata": {},
   "source": [
    "## Creating plot3 for Sector plot"
   ]
  },
  {
   "cell_type": "code",
   "execution_count": 299,
   "metadata": {},
   "outputs": [],
   "source": [
    "plot3 = Sector.sort_values('No_of_investments', ascending = False).groupby('Country').head(3)"
   ]
  },
  {
   "cell_type": "code",
   "execution_count": 300,
   "metadata": {},
   "outputs": [],
   "source": [
    "plot3 = plot3.rename(columns = {'No_of_investments' : \"Number of investments\", 'main_sector' : 'Main Sector' })"
   ]
  },
  {
   "cell_type": "code",
   "execution_count": 301,
   "metadata": {},
   "outputs": [
    {
     "data": {
      "image/png": "[encoded data removed]",
      "text/plain": [
       "<Figure size 586.125x360 with 1 Axes>"
      ]
     },
     "metadata": {
      "needs_background": "light"
     },
     "output_type": "display_data"
    }
   ],
   "source": [
    "sns.catplot(data = plot3, y = \"Number of investments\", x = 'Country',hue = \"Main Sector\",kind=\"bar\" )\n",
    "pt.show()"
   ]
  },
  {
   "cell_type": "code",
   "execution_count": 302,
   "metadata": {},
   "outputs": [
    {
     "data": {
      "text/html": [
       "<div>\n",
       "<style scoped>\n",
       "    .dataframe tbody tr th:only-of-type {\n",
       "        vertical-align: middle;\n",
       "    }\n",
       "\n",
       "    .dataframe tbody tr th {\n",
       "        vertical-align: top;\n",
       "    }\n",
       "\n",
       "    .dataframe thead th {\n",
       "        text-align: right;\n",
       "    }\n",
       "</style>\n",
       "<table border=\"1\" class=\"dataframe\">\n",
       "  <thead>\n",
       "    <tr style=\"text-align: right;\">\n",
       "      <th></th>\n",
       "      <th>company_permalink</th>\n",
       "      <th>funding_round_type</th>\n",
       "      <th>raised_amount_usd</th>\n",
       "      <th>name</th>\n",
       "      <th>category_list_x</th>\n",
       "      <th>status</th>\n",
       "      <th>country_code</th>\n",
       "      <th>primary_sector</th>\n",
       "      <th>main_sector</th>\n",
       "      <th>No_of_investments</th>\n",
       "      <th>investment_amount</th>\n",
       "    </tr>\n",
       "  </thead>\n",
       "  <tbody>\n",
       "    <tr>\n",
       "      <th>0</th>\n",
       "      <td>/organization/0xdata</td>\n",
       "      <td>venture</td>\n",
       "      <td>8900000.0</td>\n",
       "      <td>H2O.ai</td>\n",
       "      <td>Analytics</td>\n",
       "      <td>operating</td>\n",
       "      <td>USA</td>\n",
       "      <td>Analytics</td>\n",
       "      <td>Social, Finance, Analytics, Advertising</td>\n",
       "      <td>2714</td>\n",
       "      <td>2.380738e+10</td>\n",
       "    </tr>\n",
       "    <tr>\n",
       "      <th>1</th>\n",
       "      <td>/organization/accelerated-vision-group</td>\n",
       "      <td>venture</td>\n",
       "      <td>6000000.0</td>\n",
       "      <td>Accelerated Vision Group</td>\n",
       "      <td>Analytics</td>\n",
       "      <td>operating</td>\n",
       "      <td>USA</td>\n",
       "      <td>Analytics</td>\n",
       "      <td>Social, Finance, Analytics, Advertising</td>\n",
       "      <td>2714</td>\n",
       "      <td>2.380738e+10</td>\n",
       "    </tr>\n",
       "    <tr>\n",
       "      <th>2</th>\n",
       "      <td>/organization/accelops</td>\n",
       "      <td>venture</td>\n",
       "      <td>7000000.0</td>\n",
       "      <td>AccelOps</td>\n",
       "      <td>Analytics|Cloud Computing|Cloud Management|Net...</td>\n",
       "      <td>operating</td>\n",
       "      <td>USA</td>\n",
       "      <td>Analytics</td>\n",
       "      <td>Social, Finance, Analytics, Advertising</td>\n",
       "      <td>2714</td>\n",
       "      <td>2.380738e+10</td>\n",
       "    </tr>\n",
       "    <tr>\n",
       "      <th>3</th>\n",
       "      <td>/organization/adaptive-insights</td>\n",
       "      <td>venture</td>\n",
       "      <td>14000000.0</td>\n",
       "      <td>Adaptive Insights</td>\n",
       "      <td>Analytics|Business Analytics|Cloud Data Servic...</td>\n",
       "      <td>operating</td>\n",
       "      <td>USA</td>\n",
       "      <td>Analytics</td>\n",
       "      <td>Social, Finance, Analytics, Advertising</td>\n",
       "      <td>2714</td>\n",
       "      <td>2.380738e+10</td>\n",
       "    </tr>\n",
       "    <tr>\n",
       "      <th>4</th>\n",
       "      <td>/organization/adaptive-insights</td>\n",
       "      <td>venture</td>\n",
       "      <td>7500000.0</td>\n",
       "      <td>Adaptive Insights</td>\n",
       "      <td>Analytics|Business Analytics|Cloud Data Servic...</td>\n",
       "      <td>operating</td>\n",
       "      <td>USA</td>\n",
       "      <td>Analytics</td>\n",
       "      <td>Social, Finance, Analytics, Advertising</td>\n",
       "      <td>2714</td>\n",
       "      <td>2.380738e+10</td>\n",
       "    </tr>\n",
       "    <tr>\n",
       "      <th>...</th>\n",
       "      <td>...</td>\n",
       "      <td>...</td>\n",
       "      <td>...</td>\n",
       "      <td>...</td>\n",
       "      <td>...</td>\n",
       "      <td>...</td>\n",
       "      <td>...</td>\n",
       "      <td>...</td>\n",
       "      <td>...</td>\n",
       "      <td>...</td>\n",
       "      <td>...</td>\n",
       "    </tr>\n",
       "    <tr>\n",
       "      <th>12058</th>\n",
       "      <td>/organization/washio</td>\n",
       "      <td>venture</td>\n",
       "      <td>10500000.0</td>\n",
       "      <td>Washio</td>\n",
       "      <td>Service Industries</td>\n",
       "      <td>operating</td>\n",
       "      <td>USA</td>\n",
       "      <td>Service Industries</td>\n",
       "      <td>Others</td>\n",
       "      <td>2950</td>\n",
       "      <td>2.632101e+10</td>\n",
       "    </tr>\n",
       "    <tr>\n",
       "      <th>12059</th>\n",
       "      <td>/organization/waze</td>\n",
       "      <td>venture</td>\n",
       "      <td>12000000.0</td>\n",
       "      <td>Waze</td>\n",
       "      <td>Navigation|Transportation</td>\n",
       "      <td>acquired</td>\n",
       "      <td>USA</td>\n",
       "      <td>Navigation</td>\n",
       "      <td>News, Search and Messaging</td>\n",
       "      <td>1583</td>\n",
       "      <td>1.397157e+10</td>\n",
       "    </tr>\n",
       "    <tr>\n",
       "      <th>12060</th>\n",
       "      <td>/organization/wizrocket-technologies</td>\n",
       "      <td>venture</td>\n",
       "      <td>8000000.0</td>\n",
       "      <td>CleverTap</td>\n",
       "      <td>Consumer Behavior|Mobile Analytics|SaaS</td>\n",
       "      <td>operating</td>\n",
       "      <td>USA</td>\n",
       "      <td>Consumer Behavior</td>\n",
       "      <td>Social, Finance, Analytics, Advertising</td>\n",
       "      <td>2714</td>\n",
       "      <td>2.380738e+10</td>\n",
       "    </tr>\n",
       "    <tr>\n",
       "      <th>12061</th>\n",
       "      <td>/organization/yapta</td>\n",
       "      <td>venture</td>\n",
       "      <td>5000000.0</td>\n",
       "      <td>Yapta</td>\n",
       "      <td>Tracking|Transportation|Travel</td>\n",
       "      <td>operating</td>\n",
       "      <td>USA</td>\n",
       "      <td>Tracking</td>\n",
       "      <td>Others</td>\n",
       "      <td>2950</td>\n",
       "      <td>2.632101e+10</td>\n",
       "    </tr>\n",
       "    <tr>\n",
       "      <th>12062</th>\n",
       "      <td>/organization/yoga-works</td>\n",
       "      <td>venture</td>\n",
       "      <td>13000000.0</td>\n",
       "      <td>Yoga Works</td>\n",
       "      <td>Exercise|Health and Wellness</td>\n",
       "      <td>acquired</td>\n",
       "      <td>USA</td>\n",
       "      <td>Exercise</td>\n",
       "      <td>Health</td>\n",
       "      <td>909</td>\n",
       "      <td>8.211859e+09</td>\n",
       "    </tr>\n",
       "  </tbody>\n",
       "</table>\n",
       "<p>12063 rows × 11 columns</p>\n",
       "</div>"
      ],
      "text/plain": [
       "                            company_permalink funding_round_type  \\\n",
       "0                        /organization/0xdata            venture   \n",
       "1      /organization/accelerated-vision-group            venture   \n",
       "2                      /organization/accelops            venture   \n",
       "3             /organization/adaptive-insights            venture   \n",
       "4             /organization/adaptive-insights            venture   \n",
       "...                                       ...                ...   \n",
       "12058                    /organization/washio            venture   \n",
       "12059                      /organization/waze            venture   \n",
       "12060    /organization/wizrocket-technologies            venture   \n",
       "12061                     /organization/yapta            venture   \n",
       "12062                /organization/yoga-works            venture   \n",
       "\n",
       "       raised_amount_usd                      name  \\\n",
       "0              8900000.0                    H2O.ai   \n",
       "1              6000000.0  Accelerated Vision Group   \n",
       "2              7000000.0                  AccelOps   \n",
       "3             14000000.0         Adaptive Insights   \n",
       "4              7500000.0         Adaptive Insights   \n",
       "...                  ...                       ...   \n",
       "12058         10500000.0                    Washio   \n",
       "12059         12000000.0                      Waze   \n",
       "12060          8000000.0                 CleverTap   \n",
       "12061          5000000.0                     Yapta   \n",
       "12062         13000000.0                Yoga Works   \n",
       "\n",
       "                                         category_list_x     status  \\\n",
       "0                                              Analytics  operating   \n",
       "1                                              Analytics  operating   \n",
       "2      Analytics|Cloud Computing|Cloud Management|Net...  operating   \n",
       "3      Analytics|Business Analytics|Cloud Data Servic...  operating   \n",
       "4      Analytics|Business Analytics|Cloud Data Servic...  operating   \n",
       "...                                                  ...        ...   \n",
       "12058                                 Service Industries  operating   \n",
       "12059                          Navigation|Transportation   acquired   \n",
       "12060            Consumer Behavior|Mobile Analytics|SaaS  operating   \n",
       "12061                     Tracking|Transportation|Travel  operating   \n",
       "12062                       Exercise|Health and Wellness   acquired   \n",
       "\n",
       "      country_code      primary_sector  \\\n",
       "0              USA           Analytics   \n",
       "1              USA           Analytics   \n",
       "2              USA           Analytics   \n",
       "3              USA           Analytics   \n",
       "4              USA           Analytics   \n",
       "...            ...                 ...   \n",
       "12058          USA  Service Industries   \n",
       "12059          USA          Navigation   \n",
       "12060          USA   Consumer Behavior   \n",
       "12061          USA            Tracking   \n",
       "12062          USA            Exercise   \n",
       "\n",
       "                                   main_sector  No_of_investments  \\\n",
       "0      Social, Finance, Analytics, Advertising               2714   \n",
       "1      Social, Finance, Analytics, Advertising               2714   \n",
       "2      Social, Finance, Analytics, Advertising               2714   \n",
       "3      Social, Finance, Analytics, Advertising               2714   \n",
       "4      Social, Finance, Analytics, Advertising               2714   \n",
       "...                                        ...                ...   \n",
       "12058                                   Others               2950   \n",
       "12059               News, Search and Messaging               1583   \n",
       "12060  Social, Finance, Analytics, Advertising               2714   \n",
       "12061                                   Others               2950   \n",
       "12062                                   Health                909   \n",
       "\n",
       "       investment_amount  \n",
       "0           2.380738e+10  \n",
       "1           2.380738e+10  \n",
       "2           2.380738e+10  \n",
       "3           2.380738e+10  \n",
       "4           2.380738e+10  \n",
       "...                  ...  \n",
       "12058       2.632101e+10  \n",
       "12059       1.397157e+10  \n",
       "12060       2.380738e+10  \n",
       "12061       2.632101e+10  \n",
       "12062       8.211859e+09  \n",
       "\n",
       "[12063 rows x 11 columns]"
      ]
     },
     "execution_count": 302,
     "metadata": {},
     "output_type": "execute_result"
    }
   ],
   "source": [
    "D1"
   ]
  },
  {
   "cell_type": "code",
   "execution_count": 303,
   "metadata": {},
   "outputs": [
    {
     "data": {
      "text/html": [
       "<div>\n",
       "<style scoped>\n",
       "    .dataframe tbody tr th:only-of-type {\n",
       "        vertical-align: middle;\n",
       "    }\n",
       "\n",
       "    .dataframe tbody tr th {\n",
       "        vertical-align: top;\n",
       "    }\n",
       "\n",
       "    .dataframe thead th {\n",
       "        text-align: right;\n",
       "    }\n",
       "</style>\n",
       "<table border=\"1\" class=\"dataframe\">\n",
       "  <thead>\n",
       "    <tr style=\"text-align: right;\">\n",
       "      <th></th>\n",
       "      <th>name</th>\n",
       "      <th>company_permalink</th>\n",
       "    </tr>\n",
       "  </thead>\n",
       "  <tbody>\n",
       "    <tr>\n",
       "      <th>0</th>\n",
       "      <td>Airspan Networks</td>\n",
       "      <td>9</td>\n",
       "    </tr>\n",
       "    <tr>\n",
       "      <th>1</th>\n",
       "      <td>Tigo Energy</td>\n",
       "      <td>8</td>\n",
       "    </tr>\n",
       "    <tr>\n",
       "      <th>2</th>\n",
       "      <td>Biodesix</td>\n",
       "      <td>8</td>\n",
       "    </tr>\n",
       "    <tr>\n",
       "      <th>3</th>\n",
       "      <td>EndoGastric Solutions</td>\n",
       "      <td>7</td>\n",
       "    </tr>\n",
       "    <tr>\n",
       "      <th>4</th>\n",
       "      <td>SST Inc. (Formerly ShotSpotter)</td>\n",
       "      <td>7</td>\n",
       "    </tr>\n",
       "    <tr>\n",
       "      <th>5</th>\n",
       "      <td>NetBase Solutions</td>\n",
       "      <td>7</td>\n",
       "    </tr>\n",
       "    <tr>\n",
       "      <th>6</th>\n",
       "      <td>Avnera</td>\n",
       "      <td>7</td>\n",
       "    </tr>\n",
       "    <tr>\n",
       "      <th>7</th>\n",
       "      <td>ForSight Labs</td>\n",
       "      <td>7</td>\n",
       "    </tr>\n",
       "    <tr>\n",
       "      <th>8</th>\n",
       "      <td>PatientKeeper</td>\n",
       "      <td>6</td>\n",
       "    </tr>\n",
       "    <tr>\n",
       "      <th>9</th>\n",
       "      <td>VeriSilicon Holdings</td>\n",
       "      <td>6</td>\n",
       "    </tr>\n",
       "  </tbody>\n",
       "</table>\n",
       "</div>"
      ],
      "text/plain": [
       "                              name  company_permalink\n",
       "0                 Airspan Networks                  9\n",
       "1                      Tigo Energy                  8\n",
       "2                         Biodesix                  8\n",
       "3            EndoGastric Solutions                  7\n",
       "4  SST Inc. (Formerly ShotSpotter)                  7\n",
       "5                NetBase Solutions                  7\n",
       "6                           Avnera                  7\n",
       "7                    ForSight Labs                  7\n",
       "8                    PatientKeeper                  6\n",
       "9             VeriSilicon Holdings                  6"
      ]
     },
     "execution_count": 303,
     "metadata": {},
     "output_type": "execute_result"
    }
   ],
   "source": [
    "D1.groupby('name')['company_permalink'].count().sort_values(ascending = False).head(10).reset_index()"
   ]
  },
  {
   "cell_type": "code",
   "execution_count": 304,
   "metadata": {},
   "outputs": [
    {
     "data": {
      "text/plain": [
       "name\n",
       "Airspan Networks                   81769000.0\n",
       "Biodesix                           75300000.0\n",
       "Avnera                             71062970.0\n",
       "Tigo Energy                        68739496.0\n",
       "SST Inc. (Formerly ShotSpotter)    67933006.0\n",
       "EndoGastric Solutions              67896724.0\n",
       "Virtustream                        64300000.0\n",
       "Demandbase                         63000000.0\n",
       "Intacct                            61800000.0\n",
       "ForSight Labs                      61300001.0\n",
       "Name: raised_amount_usd, dtype: float64"
      ]
     },
     "execution_count": 304,
     "metadata": {},
     "output_type": "execute_result"
    }
   ],
   "source": [
    "D1.groupby('name')['raised_amount_usd'].sum().sort_values(ascending = False).head(10)"
   ]
  },
  {
   "cell_type": "code",
   "execution_count": 305,
   "metadata": {},
   "outputs": [
    {
     "data": {
      "text/html": [
       "<div>\n",
       "<style scoped>\n",
       "    .dataframe tbody tr th:only-of-type {\n",
       "        vertical-align: middle;\n",
       "    }\n",
       "\n",
       "    .dataframe tbody tr th {\n",
       "        vertical-align: top;\n",
       "    }\n",
       "\n",
       "    .dataframe thead th {\n",
       "        text-align: right;\n",
       "    }\n",
       "</style>\n",
       "<table border=\"1\" class=\"dataframe\">\n",
       "  <thead>\n",
       "    <tr style=\"text-align: right;\">\n",
       "      <th></th>\n",
       "      <th>name</th>\n",
       "      <th>company_permalink</th>\n",
       "    </tr>\n",
       "  </thead>\n",
       "  <tbody>\n",
       "    <tr>\n",
       "      <th>0</th>\n",
       "      <td>Celltick Technologies</td>\n",
       "      <td>4</td>\n",
       "    </tr>\n",
       "    <tr>\n",
       "      <th>1</th>\n",
       "      <td>Ubiquisys</td>\n",
       "      <td>4</td>\n",
       "    </tr>\n",
       "    <tr>\n",
       "      <th>2</th>\n",
       "      <td>GreenRoad Technologies</td>\n",
       "      <td>4</td>\n",
       "    </tr>\n",
       "    <tr>\n",
       "      <th>3</th>\n",
       "      <td>Electric Cloud</td>\n",
       "      <td>4</td>\n",
       "    </tr>\n",
       "    <tr>\n",
       "      <th>4</th>\n",
       "      <td>myThings</td>\n",
       "      <td>4</td>\n",
       "    </tr>\n",
       "    <tr>\n",
       "      <th>5</th>\n",
       "      <td>SenSage</td>\n",
       "      <td>4</td>\n",
       "    </tr>\n",
       "    <tr>\n",
       "      <th>6</th>\n",
       "      <td>Autoquake</td>\n",
       "      <td>4</td>\n",
       "    </tr>\n",
       "    <tr>\n",
       "      <th>7</th>\n",
       "      <td>SilverRail Technologies</td>\n",
       "      <td>3</td>\n",
       "    </tr>\n",
       "    <tr>\n",
       "      <th>8</th>\n",
       "      <td>F-star Biotechnology Limited</td>\n",
       "      <td>3</td>\n",
       "    </tr>\n",
       "    <tr>\n",
       "      <th>9</th>\n",
       "      <td>Amplience</td>\n",
       "      <td>3</td>\n",
       "    </tr>\n",
       "  </tbody>\n",
       "</table>\n",
       "</div>"
      ],
      "text/plain": [
       "                           name  company_permalink\n",
       "0         Celltick Technologies                  4\n",
       "1                     Ubiquisys                  4\n",
       "2        GreenRoad Technologies                  4\n",
       "3                Electric Cloud                  4\n",
       "4                      myThings                  4\n",
       "5                       SenSage                  4\n",
       "6                     Autoquake                  4\n",
       "7       SilverRail Technologies                  3\n",
       "8  F-star Biotechnology Limited                  3\n",
       "9                     Amplience                  3"
      ]
     },
     "execution_count": 305,
     "metadata": {},
     "output_type": "execute_result"
    }
   ],
   "source": [
    "D2.groupby('name')['company_permalink'].count().sort_values(ascending = False).head(10).reset_index()"
   ]
  },
  {
   "cell_type": "code",
   "execution_count": 306,
   "metadata": {},
   "outputs": [
    {
     "data": {
      "text/html": [
       "<div>\n",
       "<style scoped>\n",
       "    .dataframe tbody tr th:only-of-type {\n",
       "        vertical-align: middle;\n",
       "    }\n",
       "\n",
       "    .dataframe tbody tr th {\n",
       "        vertical-align: top;\n",
       "    }\n",
       "\n",
       "    .dataframe thead th {\n",
       "        text-align: right;\n",
       "    }\n",
       "</style>\n",
       "<table border=\"1\" class=\"dataframe\">\n",
       "  <thead>\n",
       "    <tr style=\"text-align: right;\">\n",
       "      <th></th>\n",
       "      <th>name</th>\n",
       "      <th>company_permalink</th>\n",
       "    </tr>\n",
       "  </thead>\n",
       "  <tbody>\n",
       "    <tr>\n",
       "      <th>0</th>\n",
       "      <td>Ostara</td>\n",
       "      <td>4</td>\n",
       "    </tr>\n",
       "    <tr>\n",
       "      <th>1</th>\n",
       "      <td>Fresco Microchip</td>\n",
       "      <td>4</td>\n",
       "    </tr>\n",
       "    <tr>\n",
       "      <th>2</th>\n",
       "      <td>Wave Accounting</td>\n",
       "      <td>4</td>\n",
       "    </tr>\n",
       "    <tr>\n",
       "      <th>3</th>\n",
       "      <td>Wavesat</td>\n",
       "      <td>3</td>\n",
       "    </tr>\n",
       "    <tr>\n",
       "      <th>4</th>\n",
       "      <td>REGEN Energy</td>\n",
       "      <td>3</td>\n",
       "    </tr>\n",
       "    <tr>\n",
       "      <th>5</th>\n",
       "      <td>NewStep Networks</td>\n",
       "      <td>3</td>\n",
       "    </tr>\n",
       "    <tr>\n",
       "      <th>6</th>\n",
       "      <td>Vantrix</td>\n",
       "      <td>3</td>\n",
       "    </tr>\n",
       "    <tr>\n",
       "      <th>7</th>\n",
       "      <td>Solantro Semiconductor</td>\n",
       "      <td>3</td>\n",
       "    </tr>\n",
       "    <tr>\n",
       "      <th>8</th>\n",
       "      <td>ENBALA Power Networks</td>\n",
       "      <td>3</td>\n",
       "    </tr>\n",
       "    <tr>\n",
       "      <th>9</th>\n",
       "      <td>Diablo Technologies</td>\n",
       "      <td>3</td>\n",
       "    </tr>\n",
       "  </tbody>\n",
       "</table>\n",
       "</div>"
      ],
      "text/plain": [
       "                     name  company_permalink\n",
       "0                  Ostara                  4\n",
       "1        Fresco Microchip                  4\n",
       "2         Wave Accounting                  4\n",
       "3                 Wavesat                  3\n",
       "4            REGEN Energy                  3\n",
       "5        NewStep Networks                  3\n",
       "6                 Vantrix                  3\n",
       "7  Solantro Semiconductor                  3\n",
       "8   ENBALA Power Networks                  3\n",
       "9     Diablo Technologies                  3"
      ]
     },
     "execution_count": 306,
     "metadata": {},
     "output_type": "execute_result"
    }
   ],
   "source": [
    "D3.groupby('name')['company_permalink'].count().sort_values(ascending = False).head(10).reset_index()"
   ]
  },
  {
   "cell_type": "code",
   "execution_count": null,
   "metadata": {},
   "outputs": [],
   "source": []
  },
  {
   "cell_type": "code",
   "execution_count": null,
   "metadata": {},
   "outputs": [],
   "source": []
  }
 ],
 "metadata": {
  "kernelspec": {
   "display_name": "Python 3",
   "language": "python",
   "name": "python3"
  },
  "language_info": {
   "codemirror_mode": {
    "name": "ipython",
    "version": 3
   },
   "file_extension": ".py",
   "mimetype": "text/x-python",
   "name": "python",
   "nbconvert_exporter": "python",
   "pygments_lexer": "ipython3",
   "version": "3.7.6"
  }
 },
 "nbformat": 4,
 "nbformat_minor": 4
}
